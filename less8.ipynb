{
 "cells": [
  {
   "cell_type": "markdown",
   "metadata": {},
   "source": [
    "#task1"
   ]
  },
  {
   "cell_type": "code",
   "execution_count": 3,
   "metadata": {},
   "outputs": [],
   "source": [
    "import numpy as np\n",
    "import pandas as pd\n",
    "import matplotlib.pyplot as plt\n",
    "\n",
    "from sklearn.datasets import load_boston\n",
    "boston = load_boston()"
   ]
  },
  {
   "cell_type": "code",
   "execution_count": 4,
   "metadata": {},
   "outputs": [],
   "source": [
    "data = boston[\"data\"]\n",
    "feature_names = boston[\"feature_names\"]\n",
    "target = boston[\"target\"]\n",
    "\n",
    "X = pd.DataFrame(data, columns=feature_names)\n",
    "y = pd.DataFrame(target, columns=[\"price\"])"
   ]
  },
  {
   "cell_type": "code",
   "execution_count": 5,
   "metadata": {},
   "outputs": [],
   "source": [
    "from sklearn.model_selection import train_test_split\n",
    "X_train, X_test, y_train, y_test = train_test_split(X, y, test_size=0.2, random_state=42)"
   ]
  },
  {
   "cell_type": "code",
   "execution_count": 6,
   "metadata": {},
   "outputs": [],
   "source": [
    "from sklearn.preprocessing import StandardScaler\n",
    "scaler = StandardScaler()\n",
    "\n",
    "X_train_scaled = pd.DataFrame(scaler.fit_transform(X_train[feature_names]),\n",
    "                              columns=feature_names, index=X_train.index)\n",
    "X_test_scaled = pd.DataFrame(scaler.transform(X_test[feature_names]),\n",
    "                             columns=feature_names, index=X_test.index)"
   ]
  },
  {
   "cell_type": "code",
   "execution_count": 7,
   "metadata": {},
   "outputs": [
    {
     "data": {
      "text/html": [
       "<div>\n",
       "<style scoped>\n",
       "    .dataframe tbody tr th:only-of-type {\n",
       "        vertical-align: middle;\n",
       "    }\n",
       "\n",
       "    .dataframe tbody tr th {\n",
       "        vertical-align: top;\n",
       "    }\n",
       "\n",
       "    .dataframe thead th {\n",
       "        text-align: right;\n",
       "    }\n",
       "</style>\n",
       "<table border=\"1\" class=\"dataframe\">\n",
       "  <thead>\n",
       "    <tr style=\"text-align: right;\">\n",
       "      <th></th>\n",
       "      <th>count</th>\n",
       "      <th>mean</th>\n",
       "      <th>std</th>\n",
       "      <th>min</th>\n",
       "      <th>25%</th>\n",
       "      <th>50%</th>\n",
       "      <th>75%</th>\n",
       "      <th>max</th>\n",
       "    </tr>\n",
       "  </thead>\n",
       "  <tbody>\n",
       "    <tr>\n",
       "      <td>CRIM</td>\n",
       "      <td>404.0</td>\n",
       "      <td>-1.842585e-16</td>\n",
       "      <td>1.00124</td>\n",
       "      <td>-0.406141</td>\n",
       "      <td>-0.397976</td>\n",
       "      <td>-0.377675</td>\n",
       "      <td>-0.045821</td>\n",
       "      <td>9.630689</td>\n",
       "    </tr>\n",
       "    <tr>\n",
       "      <td>ZN</td>\n",
       "      <td>404.0</td>\n",
       "      <td>5.056461e-17</td>\n",
       "      <td>1.00124</td>\n",
       "      <td>-0.500320</td>\n",
       "      <td>-0.500320</td>\n",
       "      <td>-0.500320</td>\n",
       "      <td>0.364589</td>\n",
       "      <td>3.824227</td>\n",
       "    </tr>\n",
       "    <tr>\n",
       "      <td>INDUS</td>\n",
       "      <td>404.0</td>\n",
       "      <td>3.074548e-15</td>\n",
       "      <td>1.00124</td>\n",
       "      <td>-1.487791</td>\n",
       "      <td>-0.850273</td>\n",
       "      <td>-0.352167</td>\n",
       "      <td>1.033237</td>\n",
       "      <td>2.433163</td>\n",
       "    </tr>\n",
       "    <tr>\n",
       "      <td>CHAS</td>\n",
       "      <td>404.0</td>\n",
       "      <td>-5.056461e-17</td>\n",
       "      <td>1.00124</td>\n",
       "      <td>-0.278089</td>\n",
       "      <td>-0.278089</td>\n",
       "      <td>-0.278089</td>\n",
       "      <td>-0.278089</td>\n",
       "      <td>3.595975</td>\n",
       "    </tr>\n",
       "    <tr>\n",
       "      <td>NOX</td>\n",
       "      <td>404.0</td>\n",
       "      <td>-5.221483e-15</td>\n",
       "      <td>1.00124</td>\n",
       "      <td>-1.458711</td>\n",
       "      <td>-0.888783</td>\n",
       "      <td>-0.157233</td>\n",
       "      <td>0.633861</td>\n",
       "      <td>2.675394</td>\n",
       "    </tr>\n",
       "    <tr>\n",
       "      <td>RM</td>\n",
       "      <td>404.0</td>\n",
       "      <td>-4.031016e-15</td>\n",
       "      <td>1.00124</td>\n",
       "      <td>-3.461733</td>\n",
       "      <td>-0.600349</td>\n",
       "      <td>-0.149443</td>\n",
       "      <td>0.452824</td>\n",
       "      <td>3.477564</td>\n",
       "    </tr>\n",
       "    <tr>\n",
       "      <td>AGE</td>\n",
       "      <td>404.0</td>\n",
       "      <td>-1.001124e-15</td>\n",
       "      <td>1.00124</td>\n",
       "      <td>-2.348206</td>\n",
       "      <td>-0.822826</td>\n",
       "      <td>0.327020</td>\n",
       "      <td>0.897473</td>\n",
       "      <td>1.124581</td>\n",
       "    </tr>\n",
       "    <tr>\n",
       "      <td>DIS</td>\n",
       "      <td>404.0</td>\n",
       "      <td>-3.176777e-16</td>\n",
       "      <td>1.00124</td>\n",
       "      <td>-1.258391</td>\n",
       "      <td>-0.808198</td>\n",
       "      <td>-0.297120</td>\n",
       "      <td>0.748198</td>\n",
       "      <td>3.907900</td>\n",
       "    </tr>\n",
       "    <tr>\n",
       "      <td>RAD</td>\n",
       "      <td>404.0</td>\n",
       "      <td>-3.654942e-17</td>\n",
       "      <td>1.00124</td>\n",
       "      <td>-0.974048</td>\n",
       "      <td>-0.624360</td>\n",
       "      <td>-0.507797</td>\n",
       "      <td>0.308141</td>\n",
       "      <td>1.706891</td>\n",
       "    </tr>\n",
       "    <tr>\n",
       "      <td>TAX</td>\n",
       "      <td>404.0</td>\n",
       "      <td>-1.534457e-16</td>\n",
       "      <td>1.00124</td>\n",
       "      <td>-1.307684</td>\n",
       "      <td>-0.753356</td>\n",
       "      <td>-0.446066</td>\n",
       "      <td>1.578434</td>\n",
       "      <td>1.849573</td>\n",
       "    </tr>\n",
       "    <tr>\n",
       "      <td>PTRATIO</td>\n",
       "      <td>404.0</td>\n",
       "      <td>2.005876e-14</td>\n",
       "      <td>1.00124</td>\n",
       "      <td>-2.568944</td>\n",
       "      <td>-0.682101</td>\n",
       "      <td>0.171470</td>\n",
       "      <td>0.845343</td>\n",
       "      <td>1.653990</td>\n",
       "    </tr>\n",
       "    <tr>\n",
       "      <td>B</td>\n",
       "      <td>404.0</td>\n",
       "      <td>5.754473e-15</td>\n",
       "      <td>1.00124</td>\n",
       "      <td>-3.892249</td>\n",
       "      <td>0.209880</td>\n",
       "      <td>0.383001</td>\n",
       "      <td>0.431660</td>\n",
       "      <td>0.444180</td>\n",
       "    </tr>\n",
       "    <tr>\n",
       "      <td>LSTAT</td>\n",
       "      <td>404.0</td>\n",
       "      <td>-1.853578e-16</td>\n",
       "      <td>1.00124</td>\n",
       "      <td>-1.510559</td>\n",
       "      <td>-0.800506</td>\n",
       "      <td>-0.215776</td>\n",
       "      <td>0.551307</td>\n",
       "      <td>3.592534</td>\n",
       "    </tr>\n",
       "  </tbody>\n",
       "</table>\n",
       "</div>"
      ],
      "text/plain": [
       "         count          mean      std       min       25%       50%       75%  \\\n",
       "CRIM     404.0 -1.842585e-16  1.00124 -0.406141 -0.397976 -0.377675 -0.045821   \n",
       "ZN       404.0  5.056461e-17  1.00124 -0.500320 -0.500320 -0.500320  0.364589   \n",
       "INDUS    404.0  3.074548e-15  1.00124 -1.487791 -0.850273 -0.352167  1.033237   \n",
       "CHAS     404.0 -5.056461e-17  1.00124 -0.278089 -0.278089 -0.278089 -0.278089   \n",
       "NOX      404.0 -5.221483e-15  1.00124 -1.458711 -0.888783 -0.157233  0.633861   \n",
       "RM       404.0 -4.031016e-15  1.00124 -3.461733 -0.600349 -0.149443  0.452824   \n",
       "AGE      404.0 -1.001124e-15  1.00124 -2.348206 -0.822826  0.327020  0.897473   \n",
       "DIS      404.0 -3.176777e-16  1.00124 -1.258391 -0.808198 -0.297120  0.748198   \n",
       "RAD      404.0 -3.654942e-17  1.00124 -0.974048 -0.624360 -0.507797  0.308141   \n",
       "TAX      404.0 -1.534457e-16  1.00124 -1.307684 -0.753356 -0.446066  1.578434   \n",
       "PTRATIO  404.0  2.005876e-14  1.00124 -2.568944 -0.682101  0.171470  0.845343   \n",
       "B        404.0  5.754473e-15  1.00124 -3.892249  0.209880  0.383001  0.431660   \n",
       "LSTAT    404.0 -1.853578e-16  1.00124 -1.510559 -0.800506 -0.215776  0.551307   \n",
       "\n",
       "              max  \n",
       "CRIM     9.630689  \n",
       "ZN       3.824227  \n",
       "INDUS    2.433163  \n",
       "CHAS     3.595975  \n",
       "NOX      2.675394  \n",
       "RM       3.477564  \n",
       "AGE      1.124581  \n",
       "DIS      3.907900  \n",
       "RAD      1.706891  \n",
       "TAX      1.849573  \n",
       "PTRATIO  1.653990  \n",
       "B        0.444180  \n",
       "LSTAT    3.592534  "
      ]
     },
     "execution_count": 7,
     "metadata": {},
     "output_type": "execute_result"
    }
   ],
   "source": [
    "X_train_scaled.describe().T"
   ]
  },
  {
   "cell_type": "code",
   "execution_count": 8,
   "metadata": {},
   "outputs": [
    {
     "name": "stdout",
     "output_type": "stream",
     "text": [
      "До:\t(404, 13)\n",
      "После:\t(404, 2)\n"
     ]
    }
   ],
   "source": [
    "from sklearn.manifold import TSNE\n",
    "tsne = TSNE(n_components=2, learning_rate=250, random_state=42)\n",
    "\n",
    "X_train_tsne = tsne.fit_transform(X_train_scaled)\n",
    "\n",
    "print('До:\\t{}'.format(X_train_scaled.shape))\n",
    "print('После:\\t{}'.format(X_train_tsne.shape))"
   ]
  },
  {
   "cell_type": "code",
   "execution_count": 58,
   "metadata": {},
   "outputs": [
    {
     "data": {
      "image/png": "[encoded data removed]",
      "text/plain": [
       "<Figure size 432x288 with 1 Axes>"
      ]
     },
     "metadata": {
      "needs_background": "light"
     },
     "output_type": "display_data"
    }
   ],
   "source": [
    "plt.scatter(X_train_tsne[:, 0], X_train_tsne[:, 1])\n",
    "\n",
    "plt.show()"
   ]
  },
  {
   "cell_type": "markdown",
   "metadata": {},
   "source": [
    "#task2"
   ]
  },
  {
   "cell_type": "markdown",
   "metadata": {},
   "source": [
    "Постройте еще раз диаграмму рассеяния на данных, полученных с помощью TSNE,\n",
    "и раскрасьте точки из разных кластеров разными цветами.\n",
    "\n",
    "Вычислите средние значения price и CRIM в разных кластерах.\n"
   ]
  },
  {
   "cell_type": "code",
   "execution_count": 42,
   "metadata": {},
   "outputs": [],
   "source": [
    "from sklearn.cluster import KMeans\n",
    "\n",
    "model = KMeans(n_clusters=3, random_state=42, max_iter=100)"
   ]
  },
  {
   "cell_type": "code",
   "execution_count": 48,
   "metadata": {},
   "outputs": [
    {
     "data": {
      "image/png": "[encoded data removed]",
      "text/plain": [
       "<Figure size 432x288 with 1 Axes>"
      ]
     },
     "metadata": {
      "needs_background": "light"
     },
     "output_type": "display_data"
    }
   ],
   "source": [
    "plt.scatter(X_train_tsne[:, 0], X_train_tsne[:, 1])\n",
    "plt.xlabel('tsne X')\n",
    "plt.ylabel('tsne Y')\n",
    "\n",
    "plt.title('Train data')\n",
    "\n",
    "plt.show()"
   ]
  },
  {
   "cell_type": "code",
   "execution_count": 64,
   "metadata": {},
   "outputs": [
    {
     "ename": "IndexError",
     "evalue": "too many indices for array",
     "output_type": "error",
     "traceback": [
      "\u001b[0;31m---------------------------------------------------------------------------\u001b[0m",
      "\u001b[0;31mIndexError\u001b[0m                                Traceback (most recent call last)",
      "\u001b[0;32m<ipython-input-64-5ece615f58d5>\u001b[0m in \u001b[0;36m<module>\u001b[0;34m\u001b[0m\n\u001b[1;32m      1\u001b[0m \u001b[0mtrain_labels\u001b[0m \u001b[0;34m=\u001b[0m \u001b[0mmodel\u001b[0m\u001b[0;34m.\u001b[0m\u001b[0mfit_predict\u001b[0m\u001b[0;34m(\u001b[0m\u001b[0mX_train_tsne\u001b[0m\u001b[0;34m)\u001b[0m\u001b[0;34m\u001b[0m\u001b[0;34m\u001b[0m\u001b[0m\n\u001b[1;32m      2\u001b[0m \u001b[0;34m\u001b[0m\u001b[0m\n\u001b[0;32m----> 3\u001b[0;31m \u001b[0mplt\u001b[0m\u001b[0;34m.\u001b[0m\u001b[0mscatter\u001b[0m\u001b[0;34m(\u001b[0m\u001b[0mtrain_labels\u001b[0m\u001b[0;34m[\u001b[0m\u001b[0;34m:\u001b[0m\u001b[0;34m,\u001b[0m \u001b[0;36m0\u001b[0m\u001b[0;34m]\u001b[0m\u001b[0;34m,\u001b[0m \u001b[0mtrain_labels\u001b[0m\u001b[0;34m[\u001b[0m\u001b[0;34m:\u001b[0m\u001b[0;34m,\u001b[0m \u001b[0;36m1\u001b[0m\u001b[0;34m]\u001b[0m\u001b[0;34m)\u001b[0m\u001b[0;34m\u001b[0m\u001b[0;34m\u001b[0m\u001b[0m\n\u001b[0m\u001b[1;32m      4\u001b[0m \u001b[0;34m\u001b[0m\u001b[0m\n\u001b[1;32m      5\u001b[0m \u001b[0mplt\u001b[0m\u001b[0;34m.\u001b[0m\u001b[0mshow\u001b[0m\u001b[0;34m(\u001b[0m\u001b[0;34m)\u001b[0m\u001b[0;34m\u001b[0m\u001b[0;34m\u001b[0m\u001b[0m\n",
      "\u001b[0;31mIndexError\u001b[0m: too many indices for array"
     ]
    }
   ],
   "source": [
    "train_labels = model.fit_predict(X_train_tsne)\n",
    "\n",
    "plt.scatter(train_labels[:, 0], train_labels[:, 1])\n",
    "\n",
    "plt.show()\n"
   ]
  },
  {
   "cell_type": "code",
   "execution_count": 61,
   "metadata": {},
   "outputs": [
    {
     "ename": "ValueError",
     "evalue": "operands could not be broadcast together with shapes (3,2) (13,) (3,2) ",
     "output_type": "error",
     "traceback": [
      "\u001b[0;31m---------------------------------------------------------------------------\u001b[0m",
      "\u001b[0;31mValueError\u001b[0m                                Traceback (most recent call last)",
      "\u001b[0;32m<ipython-input-61-92fdbc4c8080>\u001b[0m in \u001b[0;36m<module>\u001b[0;34m\u001b[0m\n\u001b[0;32m----> 1\u001b[0;31m \u001b[0mcenters\u001b[0m \u001b[0;34m=\u001b[0m \u001b[0mscaler\u001b[0m\u001b[0;34m.\u001b[0m\u001b[0minverse_transform\u001b[0m\u001b[0;34m(\u001b[0m\u001b[0mmodel\u001b[0m\u001b[0;34m.\u001b[0m\u001b[0mcluster_centers_\u001b[0m\u001b[0;34m)\u001b[0m\u001b[0;34m\u001b[0m\u001b[0;34m\u001b[0m\u001b[0m\n\u001b[0m\u001b[1;32m      2\u001b[0m \u001b[0;34m\u001b[0m\u001b[0m\n",
      "\u001b[0;32m~/anaconda3/lib/python3.7/site-packages/sklearn/preprocessing/data.py\u001b[0m in \u001b[0;36minverse_transform\u001b[0;34m(self, X)\u001b[0m\n\u001b[1;32m    404\u001b[0m                         force_all_finite=\"allow-nan\")\n\u001b[1;32m    405\u001b[0m \u001b[0;34m\u001b[0m\u001b[0m\n\u001b[0;32m--> 406\u001b[0;31m         \u001b[0mX\u001b[0m \u001b[0;34m-=\u001b[0m \u001b[0mself\u001b[0m\u001b[0;34m.\u001b[0m\u001b[0mmin_\u001b[0m\u001b[0;34m\u001b[0m\u001b[0;34m\u001b[0m\u001b[0m\n\u001b[0m\u001b[1;32m    407\u001b[0m         \u001b[0mX\u001b[0m \u001b[0;34m/=\u001b[0m \u001b[0mself\u001b[0m\u001b[0;34m.\u001b[0m\u001b[0mscale_\u001b[0m\u001b[0;34m\u001b[0m\u001b[0;34m\u001b[0m\u001b[0m\n\u001b[1;32m    408\u001b[0m         \u001b[0;32mreturn\u001b[0m \u001b[0mX\u001b[0m\u001b[0;34m\u001b[0m\u001b[0;34m\u001b[0m\u001b[0m\n",
      "\u001b[0;31mValueError\u001b[0m: operands could not be broadcast together with shapes (3,2) (13,) (3,2) "
     ]
    }
   ],
   "source": [
    "centers = scaler.inverse_transform(model.cluster_centers_)\n",
    "\n",
    "plt.scatter(X_train_tsne[:, 0], X_train_tsne[:, 1], c=train_labels)\n",
    "plt.scatter(centers[:, 0], centers[:, 1], marker='D', color='red')\n",
    "\n",
    "plt.xlabel('Длина тела')\n",
    "plt.ylabel('Длина чешуи')\n",
    "\n",
    "plt.title('Train data')"
   ]
  },
  {
   "cell_type": "code",
   "execution_count": null,
   "metadata": {},
   "outputs": [],
   "source": []
  },
  {
   "cell_type": "code",
   "execution_count": null,
   "metadata": {},
   "outputs": [],
   "source": []
  },
  {
   "cell_type": "code",
   "execution_count": null,
   "metadata": {},
   "outputs": [],
   "source": []
  }
 ],
 "metadata": {
  "kernelspec": {
   "display_name": "Python 3",
   "language": "python",
   "name": "python3"
  },
  "language_info": {
   "codemirror_mode": {
    "name": "ipython",
    "version": 3
   },
   "file_extension": ".py",
   "mimetype": "text/x-python",
   "name": "python",
   "nbconvert_exporter": "python",
   "pygments_lexer": "ipython3",
   "version": "3.7.4"
  }
 },
 "nbformat": 4,
 "nbformat_minor": 2
}
