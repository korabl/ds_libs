{
 "cells": [
  {
   "cell_type": "markdown",
   "metadata": {
    "colab_type": "text",
    "id": "G2wMw7vtsFIu"
   },
   "source": [
    "## Домашнее задание 6\n",
    "\n",
    "### Взаимосвязь величин. Параметрические и непараметрические показатели корреляции. \n",
    "\n",
    "### Корреляционный анализ"
   ]
  },
  {
   "cell_type": "markdown",
   "metadata": {
    "colab_type": "text",
    "id": "Rc3tqLLnsFIw"
   },
   "source": [
    "#### 1. Доходность двух активов за 8 периодов представлена в таблице:"
   ]
  },
  {
   "cell_type": "code",
   "execution_count": 1,
   "metadata": {},
   "outputs": [],
   "source": [
    "import pandas as pd"
   ]
  },
  {
   "cell_type": "code",
   "execution_count": 2,
   "metadata": {},
   "outputs": [],
   "source": [
    "tabledata = [[1, 12, 14],\n",
    "         [2, 10, 18],\n",
    "         [3, 10, 13],\n",
    "         [4, 8, 10],\n",
    "         [5, -5, 12],\n",
    "         [6, -3, -7],\n",
    "         [7, 10, -2],\n",
    "         [8, 7, 10]]"
   ]
  },
  {
   "cell_type": "code",
   "execution_count": 6,
   "metadata": {
    "scrolled": true
   },
   "outputs": [
    {
     "data": {
      "text/html": [
       "<div>\n",
       "<style scoped>\n",
       "    .dataframe tbody tr th:only-of-type {\n",
       "        vertical-align: middle;\n",
       "    }\n",
       "\n",
       "    .dataframe tbody tr th {\n",
       "        vertical-align: top;\n",
       "    }\n",
       "\n",
       "    .dataframe thead th {\n",
       "        text-align: right;\n",
       "    }\n",
       "</style>\n",
       "<table border=\"1\" class=\"dataframe\">\n",
       "  <thead>\n",
       "    <tr style=\"text-align: right;\">\n",
       "      <th></th>\n",
       "      <th>Периоды</th>\n",
       "      <th>Доходность актива Х</th>\n",
       "      <th>Доходность актива Y</th>\n",
       "    </tr>\n",
       "  </thead>\n",
       "  <tbody>\n",
       "    <tr>\n",
       "      <td>0</td>\n",
       "      <td>1</td>\n",
       "      <td>12</td>\n",
       "      <td>14</td>\n",
       "    </tr>\n",
       "    <tr>\n",
       "      <td>1</td>\n",
       "      <td>2</td>\n",
       "      <td>10</td>\n",
       "      <td>18</td>\n",
       "    </tr>\n",
       "    <tr>\n",
       "      <td>2</td>\n",
       "      <td>3</td>\n",
       "      <td>10</td>\n",
       "      <td>13</td>\n",
       "    </tr>\n",
       "    <tr>\n",
       "      <td>3</td>\n",
       "      <td>4</td>\n",
       "      <td>8</td>\n",
       "      <td>10</td>\n",
       "    </tr>\n",
       "    <tr>\n",
       "      <td>4</td>\n",
       "      <td>5</td>\n",
       "      <td>-5</td>\n",
       "      <td>12</td>\n",
       "    </tr>\n",
       "    <tr>\n",
       "      <td>5</td>\n",
       "      <td>6</td>\n",
       "      <td>-3</td>\n",
       "      <td>-7</td>\n",
       "    </tr>\n",
       "    <tr>\n",
       "      <td>6</td>\n",
       "      <td>7</td>\n",
       "      <td>10</td>\n",
       "      <td>-2</td>\n",
       "    </tr>\n",
       "    <tr>\n",
       "      <td>7</td>\n",
       "      <td>8</td>\n",
       "      <td>7</td>\n",
       "      <td>10</td>\n",
       "    </tr>\n",
       "  </tbody>\n",
       "</table>\n",
       "</div>"
      ],
      "text/plain": [
       "   Периоды  Доходность актива Х  Доходность актива Y\n",
       "0        1                   12                   14\n",
       "1        2                   10                   18\n",
       "2        3                   10                   13\n",
       "3        4                    8                   10\n",
       "4        5                   -5                   12\n",
       "5        6                   -3                   -7\n",
       "6        7                   10                   -2\n",
       "7        8                    7                   10"
      ]
     },
     "execution_count": 6,
     "metadata": {},
     "output_type": "execute_result"
    }
   ],
   "source": [
    "df = pd.DataFrame(tabledata, columns=[\"Периоды\",\"Доходность актива Х\", \"Доходность актива Y\"])\n",
    "df"
   ]
  },
  {
   "cell_type": "markdown",
   "metadata": {
    "colab_type": "text",
    "id": "Rc3tqLLnsFIw"
   },
   "source": [
    "#### Определить коэффициент корреляции доходностей активов X и У."
   ]
  },
  {
   "cell_type": "code",
   "execution_count": 5,
   "metadata": {},
   "outputs": [
    {
     "data": {
      "text/html": [
       "<div>\n",
       "<style scoped>\n",
       "    .dataframe tbody tr th:only-of-type {\n",
       "        vertical-align: middle;\n",
       "    }\n",
       "\n",
       "    .dataframe tbody tr th {\n",
       "        vertical-align: top;\n",
       "    }\n",
       "\n",
       "    .dataframe thead th {\n",
       "        text-align: right;\n",
       "    }\n",
       "</style>\n",
       "<table border=\"1\" class=\"dataframe\">\n",
       "  <thead>\n",
       "    <tr style=\"text-align: right;\">\n",
       "      <th></th>\n",
       "      <th>Периоды</th>\n",
       "      <th>Доходность актива Х</th>\n",
       "      <th>Доходность актива Y</th>\n",
       "    </tr>\n",
       "  </thead>\n",
       "  <tbody>\n",
       "    <tr>\n",
       "      <td>Периоды</td>\n",
       "      <td>1.000000</td>\n",
       "      <td>-0.393560</td>\n",
       "      <td>-0.636688</td>\n",
       "    </tr>\n",
       "    <tr>\n",
       "      <td>Доходность актива Х</td>\n",
       "      <td>-0.393560</td>\n",
       "      <td>1.000000</td>\n",
       "      <td>0.396721</td>\n",
       "    </tr>\n",
       "    <tr>\n",
       "      <td>Доходность актива Y</td>\n",
       "      <td>-0.636688</td>\n",
       "      <td>0.396721</td>\n",
       "      <td>1.000000</td>\n",
       "    </tr>\n",
       "  </tbody>\n",
       "</table>\n",
       "</div>"
      ],
      "text/plain": [
       "                      Периоды  Доходность актива Х  Доходность актива Y\n",
       "Периоды              1.000000            -0.393560            -0.636688\n",
       "Доходность актива Х -0.393560             1.000000             0.396721\n",
       "Доходность актива Y -0.636688             0.396721             1.000000"
      ]
     },
     "execution_count": 5,
     "metadata": {},
     "output_type": "execute_result"
    }
   ],
   "source": [
    "df.corr()"
   ]
  },
  {
   "cell_type": "markdown",
   "metadata": {
    "colab_type": "text",
    "id": "Rc3tqLLnsFIw"
   },
   "source": [
    "#### 2. Дана корелляционная  таблица случайного вектора (X,Y). Вычислите ковариацию cov(X,Y)."
   ]
  },
  {
   "cell_type": "code",
   "execution_count": 7,
   "metadata": {},
   "outputs": [],
   "source": [
    "tabledata = [[-2, 0.1, 0, 0.2],\n",
    "         [0, 0.05, 0.2, 0],\n",
    "         [1, 0, 0.2, 0.05],\n",
    "         [7, 0.1, 0, 0.1]]"
   ]
  },
  {
   "cell_type": "code",
   "execution_count": 8,
   "metadata": {
    "scrolled": true
   },
   "outputs": [
    {
     "data": {
      "text/html": [
       "<div>\n",
       "<style scoped>\n",
       "    .dataframe tbody tr th:only-of-type {\n",
       "        vertical-align: middle;\n",
       "    }\n",
       "\n",
       "    .dataframe tbody tr th {\n",
       "        vertical-align: top;\n",
       "    }\n",
       "\n",
       "    .dataframe thead th {\n",
       "        text-align: right;\n",
       "    }\n",
       "</style>\n",
       "<table border=\"1\" class=\"dataframe\">\n",
       "  <thead>\n",
       "    <tr style=\"text-align: right;\">\n",
       "      <th></th>\n",
       "      <th>X/Y</th>\n",
       "      <th>-6</th>\n",
       "      <th>0</th>\n",
       "      <th>3</th>\n",
       "    </tr>\n",
       "  </thead>\n",
       "  <tbody>\n",
       "    <tr>\n",
       "      <td>0</td>\n",
       "      <td>-2</td>\n",
       "      <td>0.10</td>\n",
       "      <td>0.0</td>\n",
       "      <td>0.20</td>\n",
       "    </tr>\n",
       "    <tr>\n",
       "      <td>1</td>\n",
       "      <td>0</td>\n",
       "      <td>0.05</td>\n",
       "      <td>0.2</td>\n",
       "      <td>0.00</td>\n",
       "    </tr>\n",
       "    <tr>\n",
       "      <td>2</td>\n",
       "      <td>1</td>\n",
       "      <td>0.00</td>\n",
       "      <td>0.2</td>\n",
       "      <td>0.05</td>\n",
       "    </tr>\n",
       "    <tr>\n",
       "      <td>3</td>\n",
       "      <td>7</td>\n",
       "      <td>0.10</td>\n",
       "      <td>0.0</td>\n",
       "      <td>0.10</td>\n",
       "    </tr>\n",
       "  </tbody>\n",
       "</table>\n",
       "</div>"
      ],
      "text/plain": [
       "   X/Y    -6    0     3\n",
       "0   -2  0.10  0.0  0.20\n",
       "1    0  0.05  0.2  0.00\n",
       "2    1  0.00  0.2  0.05\n",
       "3    7  0.10  0.0  0.10"
      ]
     },
     "execution_count": 8,
     "metadata": {},
     "output_type": "execute_result"
    }
   ],
   "source": [
    "df = pd.DataFrame(tabledata, columns=[\"X/Y\",\"-6\", \" 0\", \"3\"])\n",
    "df"
   ]
  },
  {
   "cell_type": "code",
   "execution_count": 9,
   "metadata": {},
   "outputs": [
    {
     "data": {
      "text/html": [
       "<div>\n",
       "<style scoped>\n",
       "    .dataframe tbody tr th:only-of-type {\n",
       "        vertical-align: middle;\n",
       "    }\n",
       "\n",
       "    .dataframe tbody tr th {\n",
       "        vertical-align: top;\n",
       "    }\n",
       "\n",
       "    .dataframe thead th {\n",
       "        text-align: right;\n",
       "    }\n",
       "</style>\n",
       "<table border=\"1\" class=\"dataframe\">\n",
       "  <thead>\n",
       "    <tr style=\"text-align: right;\">\n",
       "      <th></th>\n",
       "      <th>X/Y</th>\n",
       "      <th>-6</th>\n",
       "      <th>0</th>\n",
       "      <th>3</th>\n",
       "    </tr>\n",
       "  </thead>\n",
       "  <tbody>\n",
       "    <tr>\n",
       "      <td>X/Y</td>\n",
       "      <td>15.000000</td>\n",
       "      <td>0.041667</td>\n",
       "      <td>-0.133333</td>\n",
       "      <td>-0.058333</td>\n",
       "    </tr>\n",
       "    <tr>\n",
       "      <td>-6</td>\n",
       "      <td>0.041667</td>\n",
       "      <td>0.002292</td>\n",
       "      <td>-0.005000</td>\n",
       "      <td>0.002708</td>\n",
       "    </tr>\n",
       "    <tr>\n",
       "      <td>0</td>\n",
       "      <td>-0.133333</td>\n",
       "      <td>-0.005000</td>\n",
       "      <td>0.013333</td>\n",
       "      <td>-0.008333</td>\n",
       "    </tr>\n",
       "    <tr>\n",
       "      <td>3</td>\n",
       "      <td>-0.058333</td>\n",
       "      <td>0.002708</td>\n",
       "      <td>-0.008333</td>\n",
       "      <td>0.007292</td>\n",
       "    </tr>\n",
       "  </tbody>\n",
       "</table>\n",
       "</div>"
      ],
      "text/plain": [
       "           X/Y        -6         0         3\n",
       "X/Y  15.000000  0.041667 -0.133333 -0.058333\n",
       "-6    0.041667  0.002292 -0.005000  0.002708\n",
       " 0   -0.133333 -0.005000  0.013333 -0.008333\n",
       "3    -0.058333  0.002708 -0.008333  0.007292"
      ]
     },
     "execution_count": 9,
     "metadata": {},
     "output_type": "execute_result"
    }
   ],
   "source": [
    "df.cov()"
   ]
  },
  {
   "cell_type": "markdown",
   "metadata": {
    "colab_type": "text",
    "id": "Rc3tqLLnsFIw"
   },
   "source": [
    "#### 3. Определите коэффициент корреляции из № 2."
   ]
  },
  {
   "cell_type": "code",
   "execution_count": 10,
   "metadata": {},
   "outputs": [
    {
     "data": {
      "text/html": [
       "<div>\n",
       "<style scoped>\n",
       "    .dataframe tbody tr th:only-of-type {\n",
       "        vertical-align: middle;\n",
       "    }\n",
       "\n",
       "    .dataframe tbody tr th {\n",
       "        vertical-align: top;\n",
       "    }\n",
       "\n",
       "    .dataframe thead th {\n",
       "        text-align: right;\n",
       "    }\n",
       "</style>\n",
       "<table border=\"1\" class=\"dataframe\">\n",
       "  <thead>\n",
       "    <tr style=\"text-align: right;\">\n",
       "      <th></th>\n",
       "      <th>X/Y</th>\n",
       "      <th>-6</th>\n",
       "      <th>0</th>\n",
       "      <th>3</th>\n",
       "    </tr>\n",
       "  </thead>\n",
       "  <tbody>\n",
       "    <tr>\n",
       "      <td>X/Y</td>\n",
       "      <td>1.000000</td>\n",
       "      <td>0.224733</td>\n",
       "      <td>-0.298142</td>\n",
       "      <td>-0.176383</td>\n",
       "    </tr>\n",
       "    <tr>\n",
       "      <td>-6</td>\n",
       "      <td>0.224733</td>\n",
       "      <td>1.000000</td>\n",
       "      <td>-0.904534</td>\n",
       "      <td>0.662541</td>\n",
       "    </tr>\n",
       "    <tr>\n",
       "      <td>0</td>\n",
       "      <td>-0.298142</td>\n",
       "      <td>-0.904534</td>\n",
       "      <td>1.000000</td>\n",
       "      <td>-0.845154</td>\n",
       "    </tr>\n",
       "    <tr>\n",
       "      <td>3</td>\n",
       "      <td>-0.176383</td>\n",
       "      <td>0.662541</td>\n",
       "      <td>-0.845154</td>\n",
       "      <td>1.000000</td>\n",
       "    </tr>\n",
       "  </tbody>\n",
       "</table>\n",
       "</div>"
      ],
      "text/plain": [
       "          X/Y        -6         0         3\n",
       "X/Y  1.000000  0.224733 -0.298142 -0.176383\n",
       "-6   0.224733  1.000000 -0.904534  0.662541\n",
       " 0  -0.298142 -0.904534  1.000000 -0.845154\n",
       "3   -0.176383  0.662541 -0.845154  1.000000"
      ]
     },
     "execution_count": 10,
     "metadata": {},
     "output_type": "execute_result"
    }
   ],
   "source": [
    "df.corr()"
   ]
  },
  {
   "cell_type": "markdown",
   "metadata": {
    "colab_type": "text",
    "id": "Rc3tqLLnsFIw"
   },
   "source": [
    "#### 4. Приведите примеры положительной корелляции из практики (5 примеров)."
   ]
  },
  {
   "cell_type": "markdown",
   "metadata": {},
   "source": [
    "1. С увеличением температуры на улице увеличиваеться кол-во проданных холодных напитков.\n",
    "\n",
    "2. С увеличением кол-ва посетителей в интернет-магазине увеличиваеться кол-во проданных товаров.\n",
    "\n",
    "3. С увеличением кол-ва просмотров фильма, снятого по книге, увеличиваеться кол-во проданных книг.\n",
    "\n",
    "4. Чем больше площадь квартиры, тем выше ее цена.\n",
    "\n",
    "5. Чем больше людей покупают акции, тем сильнее растет их цена.\n"
   ]
  },
  {
   "cell_type": "markdown",
   "metadata": {
    "colab_type": "text",
    "id": "Rc3tqLLnsFIw"
   },
   "source": [
    "#### 5. Приведите примеры отрицательной корелляции  из практики (5 примеров)."
   ]
  },
  {
   "cell_type": "markdown",
   "metadata": {},
   "source": [
    "1. Чем выше стоимость квартиры, тем меньше людей, желающих ее купить.\n",
    "\n",
    "2. С увеличением температуры на улице уменьшается кол-во проданной теплой одежды.\n",
    "\n",
    "3. С увеличением использования электротранспорта уменьшаеться количество СО2, выброшеного в атмосферу.\n",
    "\n",
    "4. С увеличением потребления информации с электронных носителей уменьшаеться кол-во проданой бумаги.\n",
    "\n",
    "5. С увелияением государтсвеннх программ переквалификации снижается уровень безработицы."
   ]
  }
 ],
 "metadata": {
  "colab": {
   "name": "Матстат - Урок 1.ipynb",
   "provenance": []
  },
  "kernelspec": {
   "display_name": "Python 3",
   "language": "python",
   "name": "python3"
  },
  "language_info": {
   "codemirror_mode": {
    "name": "ipython",
    "version": 3
   },
   "file_extension": ".py",
   "mimetype": "text/x-python",
   "name": "python",
   "nbconvert_exporter": "python",
   "pygments_lexer": "ipython3",
   "version": "3.7.4"
  }
 },
 "nbformat": 4,
 "nbformat_minor": 1
}
