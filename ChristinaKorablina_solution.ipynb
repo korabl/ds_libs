{
 "cells": [
  {
   "cell_type": "code",
   "execution_count": 113,
   "metadata": {},
   "outputs": [],
   "source": [
    "import numpy as np\n",
    "import pandas as pd\n",
    "import pickle\n",
    "\n",
    "from sklearn.preprocessing import StandardScaler\n",
    "from sklearn.cluster import KMeans\n",
    "from scipy.spatial.distance import cdist\n",
    "from sklearn.ensemble import RandomForestRegressor, GradientBoostingRegressor, RandomForestClassifier\n",
    "from sklearn.metrics import r2_score, mean_absolute_error\n",
    "from sklearn.model_selection import KFold, GridSearchCV, cross_val_score\n",
    "from sklearn.model_selection import train_test_split\n",
    "\n",
    "from sklearn.decomposition import PCA\n",
    "from sklearn.manifold import TSNE\n",
    "from xgboost import XGBRegressor\n",
    "\n",
    "import matplotlib\n",
    "import matplotlib.pyplot as plt\n",
    "\n",
    "import seaborn as sns\n",
    "%matplotlib inline"
   ]
  },
  {
   "cell_type": "code",
   "execution_count": 114,
   "metadata": {},
   "outputs": [],
   "source": [
    "matplotlib.rcParams.update({'font.size': 12})\n",
    "pd.set_option('display.float_format', lambda x: '%.5f' % x)"
   ]
  },
  {
   "cell_type": "code",
   "execution_count": 115,
   "metadata": {},
   "outputs": [],
   "source": [
    "def apply_elbow_method(X):\n",
    "    distortions = []\n",
    "    K = range(2,15)\n",
    "    for k in K:\n",
    "        kmeanModel = KMeans(n_clusters=k, random_state=42).fit(X)\n",
    "        distortions.append(sum(np.min(cdist(X, \n",
    "                                            kmeanModel.cluster_centers_, \n",
    "                                            'euclidean'), \n",
    "                                      axis=1)) / X.shape[0])\n",
    "\n",
    "    plt.figure(figsize=(10, 6))\n",
    "    plt.plot(K, distortions, 'bx-')\n",
    "    plt.xlabel('k')\n",
    "    plt.ylabel('Distortion')\n",
    "    plt.title('The Elbow Method showing the optimal k');"
   ]
  },
  {
   "cell_type": "code",
   "execution_count": 116,
   "metadata": {},
   "outputs": [],
   "source": [
    "def display_clusters_distribution(unique_labels, labels_counts):\n",
    "    plt.figure(figsize=(8,5))\n",
    "\n",
    "    plt.bar(unique, counts)\n",
    "\n",
    "    plt.xlabel('Clusters')\n",
    "    plt.xticks(unique)\n",
    "    plt.ylabel('Count')\n",
    "    plt.title('Clusters distribution');"
   ]
  },
  {
   "cell_type": "code",
   "execution_count": 117,
   "metadata": {},
   "outputs": [],
   "source": [
    "def evaluate_preds(true_values_train, pred_values_train, true_values_test, pred_values_test):\n",
    "    print('Train:\\t' + 'R2 = ' + str(round(r2_score(true_values_train, pred_values_train), 6)) + \n",
    "          '\\tMAE = ' + str(round(mean_absolute_error(true_values_train, pred_values_train), 6)) +\n",
    "          '\\n' +\n",
    "          'Test:\\t' + 'R2 = ' + str(round(r2_score(true_values_test, pred_values_test), 6)) +\n",
    "          '\\tMAE = ' + str(round(mean_absolute_error(true_values_test, pred_values_test), 6))\n",
    "         )"
   ]
  },
  {
   "cell_type": "code",
   "execution_count": 118,
   "metadata": {},
   "outputs": [],
   "source": [
    "def reduce_dims_to_3D_space_with_PCA(df):\n",
    "    pca = PCA(n_components=3)\n",
    "    components = pca.fit_transform(df)\n",
    "    return pd.DataFrame(data = components, columns = ['component_1', 'component_2', 'component_3'])"
   ]
  },
  {
   "cell_type": "code",
   "execution_count": 119,
   "metadata": {},
   "outputs": [],
   "source": [
    "def reduce_dims_to_3D_space_with_PCA_1(df):\n",
    "    pca_1 = PCA(n_components=3)\n",
    "    components_1 = pca_1.fit_transform(df)\n",
    "    return pd.DataFrame(data = components_1, columns = ['component_1', 'component_2', 'component_3'])"
   ]
  },
  {
   "cell_type": "code",
   "execution_count": 120,
   "metadata": {},
   "outputs": [],
   "source": [
    "import warnings\n",
    "warnings.filterwarnings('ignore')\n",
    "matplotlib.rcParams.update({'font.size': 14})\n",
    "pd.set_option('display.float_format', lambda x: '%.3f' % x)"
   ]
  },
  {
   "cell_type": "code",
   "execution_count": 121,
   "metadata": {},
   "outputs": [],
   "source": [
    "DATASET_PATH = 'train.csv'\n",
    "TEST_DATASET_PATH = 'test.csv'"
   ]
  },
  {
   "cell_type": "code",
   "execution_count": 122,
   "metadata": {},
   "outputs": [
    {
     "data": {
      "text/html": [
       "<div>\n",
       "<style scoped>\n",
       "    .dataframe tbody tr th:only-of-type {\n",
       "        vertical-align: middle;\n",
       "    }\n",
       "\n",
       "    .dataframe tbody tr th {\n",
       "        vertical-align: top;\n",
       "    }\n",
       "\n",
       "    .dataframe thead th {\n",
       "        text-align: right;\n",
       "    }\n",
       "</style>\n",
       "<table border=\"1\" class=\"dataframe\">\n",
       "  <thead>\n",
       "    <tr style=\"text-align: right;\">\n",
       "      <th></th>\n",
       "      <th>DistrictId</th>\n",
       "      <th>Rooms</th>\n",
       "      <th>Square</th>\n",
       "      <th>LifeSquare</th>\n",
       "      <th>KitchenSquare</th>\n",
       "      <th>Floor</th>\n",
       "      <th>HouseFloor</th>\n",
       "      <th>HouseYear</th>\n",
       "      <th>Ecology_1</th>\n",
       "      <th>Ecology_2</th>\n",
       "      <th>Ecology_3</th>\n",
       "      <th>Social_1</th>\n",
       "      <th>Social_2</th>\n",
       "      <th>Social_3</th>\n",
       "      <th>Healthcare_1</th>\n",
       "      <th>Helthcare_2</th>\n",
       "      <th>Shops_1</th>\n",
       "      <th>Shops_2</th>\n",
       "      <th>Price</th>\n",
       "    </tr>\n",
       "    <tr>\n",
       "      <th>Id</th>\n",
       "      <th></th>\n",
       "      <th></th>\n",
       "      <th></th>\n",
       "      <th></th>\n",
       "      <th></th>\n",
       "      <th></th>\n",
       "      <th></th>\n",
       "      <th></th>\n",
       "      <th></th>\n",
       "      <th></th>\n",
       "      <th></th>\n",
       "      <th></th>\n",
       "      <th></th>\n",
       "      <th></th>\n",
       "      <th></th>\n",
       "      <th></th>\n",
       "      <th></th>\n",
       "      <th></th>\n",
       "      <th></th>\n",
       "    </tr>\n",
       "  </thead>\n",
       "  <tbody>\n",
       "    <tr>\n",
       "      <td>14038</td>\n",
       "      <td>35</td>\n",
       "      <td>2.000</td>\n",
       "      <td>47.982</td>\n",
       "      <td>29.443</td>\n",
       "      <td>6.000</td>\n",
       "      <td>7</td>\n",
       "      <td>9.000</td>\n",
       "      <td>1969</td>\n",
       "      <td>0.089</td>\n",
       "      <td>B</td>\n",
       "      <td>B</td>\n",
       "      <td>33</td>\n",
       "      <td>7976</td>\n",
       "      <td>5</td>\n",
       "      <td>nan</td>\n",
       "      <td>0</td>\n",
       "      <td>11</td>\n",
       "      <td>B</td>\n",
       "      <td>184966.931</td>\n",
       "    </tr>\n",
       "    <tr>\n",
       "      <td>15053</td>\n",
       "      <td>41</td>\n",
       "      <td>3.000</td>\n",
       "      <td>65.684</td>\n",
       "      <td>40.050</td>\n",
       "      <td>8.000</td>\n",
       "      <td>7</td>\n",
       "      <td>9.000</td>\n",
       "      <td>1978</td>\n",
       "      <td>0.000</td>\n",
       "      <td>B</td>\n",
       "      <td>B</td>\n",
       "      <td>46</td>\n",
       "      <td>10309</td>\n",
       "      <td>1</td>\n",
       "      <td>240.000</td>\n",
       "      <td>1</td>\n",
       "      <td>16</td>\n",
       "      <td>B</td>\n",
       "      <td>300009.450</td>\n",
       "    </tr>\n",
       "    <tr>\n",
       "      <td>4765</td>\n",
       "      <td>53</td>\n",
       "      <td>2.000</td>\n",
       "      <td>44.948</td>\n",
       "      <td>29.198</td>\n",
       "      <td>0.000</td>\n",
       "      <td>8</td>\n",
       "      <td>12.000</td>\n",
       "      <td>1968</td>\n",
       "      <td>0.050</td>\n",
       "      <td>B</td>\n",
       "      <td>B</td>\n",
       "      <td>34</td>\n",
       "      <td>7759</td>\n",
       "      <td>0</td>\n",
       "      <td>229.000</td>\n",
       "      <td>1</td>\n",
       "      <td>3</td>\n",
       "      <td>B</td>\n",
       "      <td>220925.909</td>\n",
       "    </tr>\n",
       "    <tr>\n",
       "      <td>5809</td>\n",
       "      <td>58</td>\n",
       "      <td>2.000</td>\n",
       "      <td>53.353</td>\n",
       "      <td>52.732</td>\n",
       "      <td>9.000</td>\n",
       "      <td>8</td>\n",
       "      <td>17.000</td>\n",
       "      <td>1977</td>\n",
       "      <td>0.438</td>\n",
       "      <td>B</td>\n",
       "      <td>B</td>\n",
       "      <td>23</td>\n",
       "      <td>5735</td>\n",
       "      <td>3</td>\n",
       "      <td>1084.000</td>\n",
       "      <td>0</td>\n",
       "      <td>5</td>\n",
       "      <td>B</td>\n",
       "      <td>175616.227</td>\n",
       "    </tr>\n",
       "    <tr>\n",
       "      <td>10783</td>\n",
       "      <td>99</td>\n",
       "      <td>1.000</td>\n",
       "      <td>39.649</td>\n",
       "      <td>23.776</td>\n",
       "      <td>7.000</td>\n",
       "      <td>11</td>\n",
       "      <td>12.000</td>\n",
       "      <td>1976</td>\n",
       "      <td>0.012</td>\n",
       "      <td>B</td>\n",
       "      <td>B</td>\n",
       "      <td>35</td>\n",
       "      <td>5776</td>\n",
       "      <td>1</td>\n",
       "      <td>2078.000</td>\n",
       "      <td>2</td>\n",
       "      <td>4</td>\n",
       "      <td>B</td>\n",
       "      <td>150226.532</td>\n",
       "    </tr>\n",
       "  </tbody>\n",
       "</table>\n",
       "</div>"
      ],
      "text/plain": [
       "       DistrictId  Rooms  Square  LifeSquare  KitchenSquare  Floor  \\\n",
       "Id                                                                   \n",
       "14038          35  2.000  47.982      29.443          6.000      7   \n",
       "15053          41  3.000  65.684      40.050          8.000      7   \n",
       "4765           53  2.000  44.948      29.198          0.000      8   \n",
       "5809           58  2.000  53.353      52.732          9.000      8   \n",
       "10783          99  1.000  39.649      23.776          7.000     11   \n",
       "\n",
       "       HouseFloor  HouseYear  Ecology_1 Ecology_2 Ecology_3  Social_1  \\\n",
       "Id                                                                      \n",
       "14038       9.000       1969      0.089         B         B        33   \n",
       "15053       9.000       1978      0.000         B         B        46   \n",
       "4765       12.000       1968      0.050         B         B        34   \n",
       "5809       17.000       1977      0.438         B         B        23   \n",
       "10783      12.000       1976      0.012         B         B        35   \n",
       "\n",
       "       Social_2  Social_3  Healthcare_1  Helthcare_2  Shops_1 Shops_2  \\\n",
       "Id                                                                      \n",
       "14038      7976         5           nan            0       11       B   \n",
       "15053     10309         1       240.000            1       16       B   \n",
       "4765       7759         0       229.000            1        3       B   \n",
       "5809       5735         3      1084.000            0        5       B   \n",
       "10783      5776         1      2078.000            2        4       B   \n",
       "\n",
       "           Price  \n",
       "Id                \n",
       "14038 184966.931  \n",
       "15053 300009.450  \n",
       "4765  220925.909  \n",
       "5809  175616.227  \n",
       "10783 150226.532  "
      ]
     },
     "execution_count": 122,
     "metadata": {},
     "output_type": "execute_result"
    }
   ],
   "source": [
    "train_df = pd.read_csv(DATASET_PATH)\n",
    "test_df = pd.read_csv(TEST_DATASET_PATH)\n",
    "\n",
    "train_df.set_index('Id', inplace=True)\n",
    "test_df.set_index('Id', inplace=True)\n",
    "\n",
    "train_df.head()"
   ]
  },
  {
   "cell_type": "markdown",
   "metadata": {},
   "source": [
    "Анализ целевой переменной"
   ]
  },
  {
   "cell_type": "code",
   "execution_count": 123,
   "metadata": {},
   "outputs": [
    {
     "data": {
      "image/png": "[encoded data removed]",
      "text/plain": [
       "<Figure size 1008x432 with 1 Axes>"
      ]
     },
     "metadata": {
      "needs_background": "light"
     },
     "output_type": "display_data"
    }
   ],
   "source": [
    "plt.figure(figsize = (14, 6))\n",
    "\n",
    "sns.distplot(train_df['Price'])\n",
    "plt.title('Distribution of Price');"
   ]
  },
  {
   "cell_type": "code",
   "execution_count": 124,
   "metadata": {},
   "outputs": [
    {
     "data": {
      "text/plain": [
       "(214138.86, 192269.64487934904, 59174.77802758122)"
      ]
     },
     "execution_count": 124,
     "metadata": {},
     "output_type": "execute_result"
    }
   ],
   "source": [
    "target_mean = round(train_df['Price'].mean(), 2)\n",
    "target_median = train_df['Price'].median()\n",
    "target_mode = train_df['Price'].mode()[0]\n",
    "\n",
    "target_mean, target_median, target_mode"
   ]
  },
  {
   "cell_type": "code",
   "execution_count": 125,
   "metadata": {},
   "outputs": [
    {
     "data": {
      "image/png": "[encoded data removed]",
      "text/plain": [
       "<Figure size 1008x432 with 1 Axes>"
      ]
     },
     "metadata": {
      "needs_background": "light"
     },
     "output_type": "display_data"
    }
   ],
   "source": [
    "plt.figure(figsize = (14, 6))\n",
    "\n",
    "sns.distplot(train_df['Price'])\n",
    "\n",
    "y = np.linspace(0, 0.000005, 100)\n",
    "plt.plot([target_mean] * 100, y, label='mean', linestyle=':', linewidth=4)\n",
    "plt.plot([target_median] * 100, y, label='median', linestyle='--', linewidth=4)\n",
    "plt.plot([target_mode] * 100, y, label='mode', linestyle='-.', linewidth=4)\n",
    "\n",
    "plt.title('Distribution of price')\n",
    "plt.legend();"
   ]
  },
  {
   "cell_type": "markdown",
   "metadata": {},
   "source": [
    "Чистим данные"
   ]
  },
  {
   "cell_type": "code",
   "execution_count": 126,
   "metadata": {},
   "outputs": [],
   "source": [
    "train_df.loc[train_df['Healthcare_1'].isna(), 'Healthcare_1'] = train_df.groupby(['Helthcare_2'])['Healthcare_1'].transform(lambda x: x.median())\n",
    "test_df.loc[test_df['Healthcare_1'].isna(), 'Healthcare_1'] = test_df.groupby(['Helthcare_2'])['Healthcare_1'].transform(lambda x: x.median())"
   ]
  },
  {
   "cell_type": "code",
   "execution_count": 127,
   "metadata": {},
   "outputs": [],
   "source": [
    "train_df.loc[train_df['LifeSquare'].isna(), 'LifeSquare'] = train_df['Square'] - train_df['KitchenSquare']\n",
    "test_df.loc[test_df['LifeSquare'].isna(), 'LifeSquare'] = test_df['Square'] - test_df['KitchenSquare']"
   ]
  },
  {
   "cell_type": "code",
   "execution_count": 128,
   "metadata": {},
   "outputs": [],
   "source": [
    "train_df.drop(train_df[(train_df['KitchenSquare'] > 1000)].index, inplace=True)\n",
    "test_df.drop(test_df[(test_df['KitchenSquare'] > 1000)].index, inplace=True)\n",
    "\n",
    "train_df.drop(train_df[(train_df['LifeSquare'] > 1000)].index, inplace=True)\n",
    "test_df.drop(test_df[(test_df['LifeSquare'] > 1000)].index, inplace=True)\n",
    "\n",
    "train_df.drop(train_df[(train_df['HouseYear'] > 2020)].index, inplace=True)\n",
    "test_df.drop(test_df[(test_df['HouseYear'] > 2020)].index, inplace=True)"
   ]
  },
  {
   "cell_type": "code",
   "execution_count": 129,
   "metadata": {},
   "outputs": [],
   "source": [
    "train_df['total_square'] = train_df['Square'] + train_df['LifeSquare'] + train_df['KitchenSquare']\n",
    "test_df['total_square'] = test_df['Square'] + test_df['LifeSquare'] + test_df['KitchenSquare']"
   ]
  },
  {
   "cell_type": "code",
   "execution_count": 130,
   "metadata": {},
   "outputs": [],
   "source": [
    "train_df['priceM'] = train_df['Price'] / train_df['Square']\n",
    "train_df.drop(train_df[(train_df['priceM'] > 10000) & (train_df['Square'] < 20)].index, inplace=True)"
   ]
  },
  {
   "cell_type": "code",
   "execution_count": 131,
   "metadata": {},
   "outputs": [],
   "source": [
    "Shops_2 = pd.get_dummies(train_df['Shops_2'])\n",
    "train_df['Shops_2'] = Shops_2\n",
    "\n",
    "Shops_2 = pd.get_dummies(test_df['Shops_2'])\n",
    "test_df['Shops_2'] = Shops_2"
   ]
  },
  {
   "cell_type": "code",
   "execution_count": 132,
   "metadata": {},
   "outputs": [],
   "source": [
    "feature_bin_names = ['Ecology_2', 'Ecology_3', 'Shops_2']\n",
    "\n",
    "train_df[feature_bin_names] = train_df[feature_bin_names].replace({'A':0, 'B':1})\n",
    "test_df[feature_bin_names] = test_df[feature_bin_names].replace({'A':0, 'B':1})"
   ]
  },
  {
   "cell_type": "code",
   "execution_count": 133,
   "metadata": {},
   "outputs": [],
   "source": [
    "train_df.drop(train_df[(train_df['Rooms'] > 15)].index, inplace=True)\n",
    "train_df.drop(train_df[(train_df['Square'] > 200) & (train_df['priceM'] < 2000)].index, inplace=True)\n",
    "train_df.drop(train_df[(train_df['KitchenSquare'] > 100)].index, inplace=True)"
   ]
  },
  {
   "cell_type": "markdown",
   "metadata": {},
   "source": [
    "Создаем новые параметры"
   ]
  },
  {
   "cell_type": "code",
   "execution_count": 134,
   "metadata": {},
   "outputs": [],
   "source": [
    "train_df['priceM'] = train_df['Price'] / train_df['Square']"
   ]
  },
  {
   "cell_type": "code",
   "execution_count": 135,
   "metadata": {},
   "outputs": [],
   "source": [
    "price_by_district = train_df.groupby(['DistrictId'], as_index=False)\\\n",
    "                        .agg({'priceM':'median'})\\\n",
    "                        .rename(columns={'priceM':'priceMbyDistrict'})\n",
    "\n",
    "train_df = train_df.merge(price_by_district, on=['DistrictId'], how='left').set_index(train_df.index)\n",
    "test_df = test_df.merge(price_by_district, on=['DistrictId'], how='left').set_index(test_df.index)"
   ]
  },
  {
   "cell_type": "code",
   "execution_count": 136,
   "metadata": {},
   "outputs": [],
   "source": [
    "train_df['priceM'] = train_df['Price'] / train_df['Square']\n",
    "train_df['priceByTS'] = train_df['Price'] / train_df['total_square']"
   ]
  },
  {
   "cell_type": "code",
   "execution_count": 137,
   "metadata": {},
   "outputs": [],
   "source": [
    "price_by_social_2 = train_df.groupby(['Social_2'], as_index=False)\\\n",
    "                        .agg({'priceM':'median'})\\\n",
    "                        .rename(columns={'priceM':'priceMbySocial_2'})\n",
    "\n",
    "train_df = train_df.merge(price_by_social_2, on=['Social_2'], how='left').set_index(train_df.index)\n",
    "test_df = test_df.merge(price_by_social_2, on=['Social_2'], how='left').set_index(test_df.index)"
   ]
  },
  {
   "cell_type": "code",
   "execution_count": 138,
   "metadata": {},
   "outputs": [],
   "source": [
    "train_df['priceM'] = train_df['Price'] / train_df['Square']"
   ]
  },
  {
   "cell_type": "code",
   "execution_count": 139,
   "metadata": {},
   "outputs": [],
   "source": [
    "price_by_house_year = train_df.groupby(['HouseYear'], as_index=False)\\\n",
    "                        .agg({'priceM':'median'})\\\n",
    "                        .rename(columns={'priceM':'priceMbyHouseYear'})\n",
    "\n",
    "train_df = train_df.merge(price_by_house_year, on=['HouseYear'], how='left').set_index(train_df.index)\n",
    "test_df = test_df.merge(price_by_house_year, on=['HouseYear'], how='left').set_index(test_df.index)"
   ]
  },
  {
   "cell_type": "code",
   "execution_count": 140,
   "metadata": {},
   "outputs": [],
   "source": [
    "train_df['priceByRoom'] = train_df['Price'] / train_df['Rooms']\n",
    "train_df.loc[train_df['Rooms'] == 0, 'priceByRoom'] = train_df['priceByRoom'].median()"
   ]
  },
  {
   "cell_type": "code",
   "execution_count": 141,
   "metadata": {},
   "outputs": [],
   "source": [
    "train_df['av_square_per_room'] = train_df['Square'] / train_df['Rooms']\n",
    "test_df['av_square_per_room'] = test_df['Square'] / test_df['Rooms']\n",
    "\n",
    "train_df.loc[train_df['av_square_per_room'].isna(), 'av_square_per_room'] = train_df['av_square_per_room'].median()\n",
    "test_df.loc[test_df['av_square_per_room'].isna(), 'av_square_per_room'] = test_df['av_square_per_room'].median()\n",
    "\n",
    "train_df.loc[train_df['av_square_per_room'] > 50, 'av_square_per_room'] = train_df['av_square_per_room'].median()\n",
    "test_df.loc[test_df['av_square_per_room'] > 50, 'av_square_per_room'] = test_df['av_square_per_room'].median()\n"
   ]
  },
  {
   "cell_type": "code",
   "execution_count": 142,
   "metadata": {},
   "outputs": [],
   "source": [
    "test_df.loc[test_df['priceMbyDistrict'].isna(), 'priceMbyDistrict'] = train_df['priceMbyDistrict'].median()\n",
    "test_df.loc[test_df['priceMbySocial_2'].isna(), 'priceMbySocial_2'] = train_df['priceMbySocial_2'].median()\n",
    "test_df.loc[test_df['priceMbyHouseYear'].isna(), 'priceMbyHouseYear'] = train_df['priceMbyHouseYear'].median()"
   ]
  },
  {
   "cell_type": "markdown",
   "metadata": {},
   "source": [
    "Сохраняем копию для второго обучения"
   ]
  },
  {
   "cell_type": "code",
   "execution_count": 143,
   "metadata": {},
   "outputs": [
    {
     "data": {
      "text/html": [
       "<div>\n",
       "<style scoped>\n",
       "    .dataframe tbody tr th:only-of-type {\n",
       "        vertical-align: middle;\n",
       "    }\n",
       "\n",
       "    .dataframe tbody tr th {\n",
       "        vertical-align: top;\n",
       "    }\n",
       "\n",
       "    .dataframe thead th {\n",
       "        text-align: right;\n",
       "    }\n",
       "</style>\n",
       "<table border=\"1\" class=\"dataframe\">\n",
       "  <thead>\n",
       "    <tr style=\"text-align: right;\">\n",
       "      <th></th>\n",
       "      <th>DistrictId</th>\n",
       "      <th>Rooms</th>\n",
       "      <th>Square</th>\n",
       "      <th>LifeSquare</th>\n",
       "      <th>KitchenSquare</th>\n",
       "      <th>Floor</th>\n",
       "      <th>HouseFloor</th>\n",
       "      <th>HouseYear</th>\n",
       "      <th>Ecology_1</th>\n",
       "      <th>Ecology_2</th>\n",
       "      <th>...</th>\n",
       "      <th>Shops_2</th>\n",
       "      <th>Price</th>\n",
       "      <th>total_square</th>\n",
       "      <th>priceM</th>\n",
       "      <th>priceMbyDistrict</th>\n",
       "      <th>priceByTS</th>\n",
       "      <th>priceMbySocial_2</th>\n",
       "      <th>priceMbyHouseYear</th>\n",
       "      <th>priceByRoom</th>\n",
       "      <th>av_square_per_room</th>\n",
       "    </tr>\n",
       "    <tr>\n",
       "      <th>Id</th>\n",
       "      <th></th>\n",
       "      <th></th>\n",
       "      <th></th>\n",
       "      <th></th>\n",
       "      <th></th>\n",
       "      <th></th>\n",
       "      <th></th>\n",
       "      <th></th>\n",
       "      <th></th>\n",
       "      <th></th>\n",
       "      <th></th>\n",
       "      <th></th>\n",
       "      <th></th>\n",
       "      <th></th>\n",
       "      <th></th>\n",
       "      <th></th>\n",
       "      <th></th>\n",
       "      <th></th>\n",
       "      <th></th>\n",
       "      <th></th>\n",
       "      <th></th>\n",
       "    </tr>\n",
       "  </thead>\n",
       "  <tbody>\n",
       "    <tr>\n",
       "      <td>14038</td>\n",
       "      <td>35</td>\n",
       "      <td>2.000</td>\n",
       "      <td>47.982</td>\n",
       "      <td>29.443</td>\n",
       "      <td>6.000</td>\n",
       "      <td>7</td>\n",
       "      <td>9.000</td>\n",
       "      <td>1969</td>\n",
       "      <td>0.089</td>\n",
       "      <td>1</td>\n",
       "      <td>...</td>\n",
       "      <td>0</td>\n",
       "      <td>184966.931</td>\n",
       "      <td>83.424</td>\n",
       "      <td>3854.959</td>\n",
       "      <td>4358.275</td>\n",
       "      <td>2217.183</td>\n",
       "      <td>4463.364</td>\n",
       "      <td>4473.255</td>\n",
       "      <td>92483.465</td>\n",
       "      <td>23.991</td>\n",
       "    </tr>\n",
       "    <tr>\n",
       "      <td>15053</td>\n",
       "      <td>41</td>\n",
       "      <td>3.000</td>\n",
       "      <td>65.684</td>\n",
       "      <td>40.050</td>\n",
       "      <td>8.000</td>\n",
       "      <td>7</td>\n",
       "      <td>9.000</td>\n",
       "      <td>1978</td>\n",
       "      <td>0.000</td>\n",
       "      <td>1</td>\n",
       "      <td>...</td>\n",
       "      <td>0</td>\n",
       "      <td>300009.450</td>\n",
       "      <td>113.733</td>\n",
       "      <td>4567.491</td>\n",
       "      <td>4437.304</td>\n",
       "      <td>2637.836</td>\n",
       "      <td>4393.559</td>\n",
       "      <td>4317.685</td>\n",
       "      <td>100003.150</td>\n",
       "      <td>21.895</td>\n",
       "    </tr>\n",
       "    <tr>\n",
       "      <td>4765</td>\n",
       "      <td>53</td>\n",
       "      <td>2.000</td>\n",
       "      <td>44.948</td>\n",
       "      <td>29.198</td>\n",
       "      <td>0.000</td>\n",
       "      <td>8</td>\n",
       "      <td>12.000</td>\n",
       "      <td>1968</td>\n",
       "      <td>0.050</td>\n",
       "      <td>1</td>\n",
       "      <td>...</td>\n",
       "      <td>0</td>\n",
       "      <td>220925.909</td>\n",
       "      <td>74.146</td>\n",
       "      <td>4915.150</td>\n",
       "      <td>4845.919</td>\n",
       "      <td>2979.624</td>\n",
       "      <td>4824.286</td>\n",
       "      <td>4429.204</td>\n",
       "      <td>110462.954</td>\n",
       "      <td>22.474</td>\n",
       "    </tr>\n",
       "    <tr>\n",
       "      <td>5809</td>\n",
       "      <td>58</td>\n",
       "      <td>2.000</td>\n",
       "      <td>53.353</td>\n",
       "      <td>52.732</td>\n",
       "      <td>9.000</td>\n",
       "      <td>8</td>\n",
       "      <td>17.000</td>\n",
       "      <td>1977</td>\n",
       "      <td>0.438</td>\n",
       "      <td>1</td>\n",
       "      <td>...</td>\n",
       "      <td>0</td>\n",
       "      <td>175616.227</td>\n",
       "      <td>115.084</td>\n",
       "      <td>3291.592</td>\n",
       "      <td>2963.981</td>\n",
       "      <td>1525.976</td>\n",
       "      <td>2653.738</td>\n",
       "      <td>2899.451</td>\n",
       "      <td>87808.114</td>\n",
       "      <td>26.676</td>\n",
       "    </tr>\n",
       "    <tr>\n",
       "      <td>10783</td>\n",
       "      <td>99</td>\n",
       "      <td>1.000</td>\n",
       "      <td>39.649</td>\n",
       "      <td>23.776</td>\n",
       "      <td>7.000</td>\n",
       "      <td>11</td>\n",
       "      <td>12.000</td>\n",
       "      <td>1976</td>\n",
       "      <td>0.012</td>\n",
       "      <td>1</td>\n",
       "      <td>...</td>\n",
       "      <td>0</td>\n",
       "      <td>150226.532</td>\n",
       "      <td>70.425</td>\n",
       "      <td>3788.893</td>\n",
       "      <td>3992.031</td>\n",
       "      <td>2133.131</td>\n",
       "      <td>3986.565</td>\n",
       "      <td>4367.263</td>\n",
       "      <td>150226.532</td>\n",
       "      <td>39.649</td>\n",
       "    </tr>\n",
       "  </tbody>\n",
       "</table>\n",
       "<p>5 rows × 27 columns</p>\n",
       "</div>"
      ],
      "text/plain": [
       "       DistrictId  Rooms  Square  LifeSquare  KitchenSquare  Floor  \\\n",
       "Id                                                                   \n",
       "14038          35  2.000  47.982      29.443          6.000      7   \n",
       "15053          41  3.000  65.684      40.050          8.000      7   \n",
       "4765           53  2.000  44.948      29.198          0.000      8   \n",
       "5809           58  2.000  53.353      52.732          9.000      8   \n",
       "10783          99  1.000  39.649      23.776          7.000     11   \n",
       "\n",
       "       HouseFloor  HouseYear  Ecology_1  Ecology_2  ...  Shops_2      Price  \\\n",
       "Id                                                  ...                       \n",
       "14038       9.000       1969      0.089          1  ...        0 184966.931   \n",
       "15053       9.000       1978      0.000          1  ...        0 300009.450   \n",
       "4765       12.000       1968      0.050          1  ...        0 220925.909   \n",
       "5809       17.000       1977      0.438          1  ...        0 175616.227   \n",
       "10783      12.000       1976      0.012          1  ...        0 150226.532   \n",
       "\n",
       "       total_square   priceM  priceMbyDistrict  priceByTS  priceMbySocial_2  \\\n",
       "Id                                                                            \n",
       "14038        83.424 3854.959          4358.275   2217.183          4463.364   \n",
       "15053       113.733 4567.491          4437.304   2637.836          4393.559   \n",
       "4765         74.146 4915.150          4845.919   2979.624          4824.286   \n",
       "5809        115.084 3291.592          2963.981   1525.976          2653.738   \n",
       "10783        70.425 3788.893          3992.031   2133.131          3986.565   \n",
       "\n",
       "       priceMbyHouseYear  priceByRoom  av_square_per_room  \n",
       "Id                                                         \n",
       "14038           4473.255    92483.465              23.991  \n",
       "15053           4317.685   100003.150              21.895  \n",
       "4765            4429.204   110462.954              22.474  \n",
       "5809            2899.451    87808.114              26.676  \n",
       "10783           4367.263   150226.532              39.649  \n",
       "\n",
       "[5 rows x 27 columns]"
      ]
     },
     "execution_count": 143,
     "metadata": {},
     "output_type": "execute_result"
    }
   ],
   "source": [
    "train_df1 = train_df.copy()\n",
    "train_df1.head()"
   ]
  },
  {
   "cell_type": "markdown",
   "metadata": {},
   "source": [
    "Обучаем модель для предсказания цены за метр"
   ]
  },
  {
   "cell_type": "code",
   "execution_count": 144,
   "metadata": {},
   "outputs": [],
   "source": [
    "#DROP price\n",
    "train_df.drop(['Price'], axis='columns', inplace=True)"
   ]
  },
  {
   "cell_type": "markdown",
   "metadata": {},
   "source": [
    "Добавляем priceM"
   ]
  },
  {
   "cell_type": "code",
   "execution_count": 145,
   "metadata": {},
   "outputs": [],
   "source": [
    "target = ['priceM']\n",
    "features = ['DistrictId',\n",
    "            'Rooms',\n",
    "            'Square',\n",
    "            'priceMbyDistrict',\n",
    "            'priceMbySocial_2',\n",
    "            'priceMbyHouseYear',\n",
    "            'av_square_per_room',\n",
    "            'total_square',\n",
    "            'LifeSquare',\n",
    "            'KitchenSquare',\n",
    "            'Floor',\n",
    "            'HouseFloor',\n",
    "            'HouseYear',\n",
    "            'Social_1',\n",
    "            'Social_2',\n",
    "            'Helthcare_2',\n",
    "            'Social_3',\n",
    "            'Healthcare_1',\n",
    "            'Shops_2', \n",
    "            'Shops_1']"
   ]
  },
  {
   "cell_type": "code",
   "execution_count": 146,
   "metadata": {},
   "outputs": [],
   "source": [
    "X_train = train_df[features]\n",
    "y_train = train_df[target]\n",
    "\n",
    "X_test = test_df[features]"
   ]
  },
  {
   "cell_type": "code",
   "execution_count": 147,
   "metadata": {},
   "outputs": [],
   "source": [
    "scaler = StandardScaler()\n",
    "\n",
    "X_train_scaled = pd.DataFrame(scaler.fit_transform(X_train), \n",
    "                        columns=X_train.columns, \n",
    "                        index=X_train.index)\n",
    "X_test_scaled = pd.DataFrame(scaler.transform(X_test), \n",
    "                        columns=X_test.columns, \n",
    "                        index=X_test.index)"
   ]
  },
  {
   "cell_type": "code",
   "execution_count": 148,
   "metadata": {},
   "outputs": [],
   "source": [
    "forest = RandomForestRegressor(max_depth=30, \n",
    "                               max_features=7, \n",
    "                               n_estimators=400,\n",
    "                               random_state=42)"
   ]
  },
  {
   "cell_type": "code",
   "execution_count": 149,
   "metadata": {},
   "outputs": [],
   "source": [
    "forest.fit(X_train_scaled, y_train)\n",
    "\n",
    "y_train_preds = forest.predict(X_train_scaled)\n",
    "y_test_preds = forest.predict(X_test_scaled)\n"
   ]
  },
  {
   "cell_type": "code",
   "execution_count": 150,
   "metadata": {},
   "outputs": [],
   "source": [
    "y_pred = forest.predict(X_test_scaled)\n",
    "\n",
    "preds = pd.DataFrame()\n",
    "preds['Id'] = X_test_scaled.index\n",
    "preds['priceM'] = y_pred\n",
    "\n",
    "test_df = pd.merge(test_df, preds, on=['Id'])\n",
    "test_df.set_index('Id', inplace=True)"
   ]
  },
  {
   "cell_type": "markdown",
   "metadata": {},
   "source": [
    "priceByTS"
   ]
  },
  {
   "cell_type": "code",
   "execution_count": 151,
   "metadata": {},
   "outputs": [],
   "source": [
    "target = ['priceByTS']\n",
    "features = ['DistrictId',\n",
    "            'Rooms',\n",
    "            'Square',\n",
    "            'priceM',\n",
    "            'priceMbyDistrict',\n",
    "            'priceMbySocial_2',\n",
    "            'priceMbyHouseYear',\n",
    "            'av_square_per_room',\n",
    "            'total_square',\n",
    "            'LifeSquare',\n",
    "            'KitchenSquare',\n",
    "            'Floor',\n",
    "            'HouseFloor',\n",
    "            'HouseYear',\n",
    "            'Social_1',\n",
    "            'Social_2',\n",
    "            'Helthcare_2',\n",
    "            'Social_3',\n",
    "            'Healthcare_1',\n",
    "            'Shops_2', \n",
    "            'Shops_1']"
   ]
  },
  {
   "cell_type": "code",
   "execution_count": 152,
   "metadata": {},
   "outputs": [],
   "source": [
    "X_train = train_df[features]\n",
    "y_train = train_df[target]\n",
    "\n",
    "X_test = test_df[features]"
   ]
  },
  {
   "cell_type": "code",
   "execution_count": 153,
   "metadata": {},
   "outputs": [],
   "source": [
    "scaler = StandardScaler()\n",
    "\n",
    "X_train_scaled = pd.DataFrame(scaler.fit_transform(X_train), \n",
    "                        columns=X_train.columns, \n",
    "                        index=X_train.index)\n",
    "X_test_scaled = pd.DataFrame(scaler.transform(X_test), \n",
    "                        columns=X_test.columns, \n",
    "                        index=X_test.index)"
   ]
  },
  {
   "cell_type": "code",
   "execution_count": 154,
   "metadata": {},
   "outputs": [],
   "source": [
    "forest.fit(X_train_scaled, y_train)\n",
    "\n",
    "y_train_preds = forest.predict(X_train_scaled)\n",
    "y_test_preds = forest.predict(X_test_scaled)\n"
   ]
  },
  {
   "cell_type": "code",
   "execution_count": 155,
   "metadata": {},
   "outputs": [
    {
     "name": "stdout",
     "output_type": "stream",
     "text": [
      "<class 'pandas.core.frame.DataFrame'>\n",
      "Int64Index: 5000 entries, 725 to 12504\n",
      "Data columns (total 25 columns):\n",
      "DistrictId            5000 non-null int64\n",
      "Rooms                 5000 non-null float64\n",
      "Square                5000 non-null float64\n",
      "LifeSquare            5000 non-null float64\n",
      "KitchenSquare         5000 non-null float64\n",
      "Floor                 5000 non-null int64\n",
      "HouseFloor            5000 non-null float64\n",
      "HouseYear             5000 non-null int64\n",
      "Ecology_1             5000 non-null float64\n",
      "Ecology_2             5000 non-null int64\n",
      "Ecology_3             5000 non-null int64\n",
      "Social_1              5000 non-null int64\n",
      "Social_2              5000 non-null int64\n",
      "Social_3              5000 non-null int64\n",
      "Healthcare_1          5000 non-null float64\n",
      "Helthcare_2           5000 non-null int64\n",
      "Shops_1               5000 non-null int64\n",
      "Shops_2               5000 non-null uint8\n",
      "total_square          5000 non-null float64\n",
      "priceMbyDistrict      5000 non-null float64\n",
      "priceMbySocial_2      5000 non-null float64\n",
      "priceMbyHouseYear     5000 non-null float64\n",
      "av_square_per_room    5000 non-null float64\n",
      "priceM                5000 non-null float64\n",
      "priceByTS             5000 non-null float64\n",
      "dtypes: float64(14), int64(10), uint8(1)\n",
      "memory usage: 981.4 KB\n"
     ]
    }
   ],
   "source": [
    "y_pred = forest.predict(X_test_scaled)\n",
    "\n",
    "preds = pd.DataFrame()\n",
    "preds['Id'] = X_test_scaled.index\n",
    "preds['priceByTS'] = y_pred\n",
    "\n",
    "test_df = pd.merge(test_df, preds, on=['Id'])\n",
    "test_df.set_index('Id', inplace=True)\n",
    "\n",
    "test_df.info()"
   ]
  },
  {
   "cell_type": "markdown",
   "metadata": {},
   "source": [
    "Добавляем цену по комнатам"
   ]
  },
  {
   "cell_type": "code",
   "execution_count": 156,
   "metadata": {},
   "outputs": [],
   "source": [
    "target = ['priceByRoom']\n",
    "features = ['DistrictId',\n",
    "            'Rooms',\n",
    "            'Square',\n",
    "            'priceM',\n",
    "            'priceByTS',\n",
    "            'priceMbyDistrict',\n",
    "            'priceMbySocial_2',\n",
    "            'priceMbyHouseYear',\n",
    "            'av_square_per_room',\n",
    "            'total_square',\n",
    "            'LifeSquare',\n",
    "            'KitchenSquare',\n",
    "            'Floor',\n",
    "            'HouseFloor',\n",
    "            'HouseYear',\n",
    "            'Social_1',\n",
    "            'Social_2',\n",
    "            'Helthcare_2',\n",
    "            'Social_3',\n",
    "            'Healthcare_1',\n",
    "            'Shops_2', \n",
    "            'Shops_1']"
   ]
  },
  {
   "cell_type": "code",
   "execution_count": 157,
   "metadata": {},
   "outputs": [],
   "source": [
    "X_train = train_df[features]\n",
    "y_train = train_df[target]\n",
    "\n",
    "X_test = test_df[features]"
   ]
  },
  {
   "cell_type": "code",
   "execution_count": 158,
   "metadata": {},
   "outputs": [],
   "source": [
    "scaler = StandardScaler()\n",
    "\n",
    "X_train_scaled = pd.DataFrame(scaler.fit_transform(X_train), \n",
    "                        columns=X_train.columns, \n",
    "                        index=X_train.index)\n",
    "X_test_scaled = pd.DataFrame(scaler.transform(X_test), \n",
    "                        columns=X_test.columns, \n",
    "                        index=X_test.index)"
   ]
  },
  {
   "cell_type": "code",
   "execution_count": 159,
   "metadata": {},
   "outputs": [],
   "source": [
    "forest.fit(X_train_scaled, y_train)\n",
    "\n",
    "y_train_preds = forest.predict(X_train_scaled)\n",
    "y_test_preds = forest.predict(X_test_scaled)"
   ]
  },
  {
   "cell_type": "code",
   "execution_count": 160,
   "metadata": {},
   "outputs": [],
   "source": [
    "y_pred_1 = forest.predict(X_test_scaled)\n",
    "\n",
    "preds_1 = pd.DataFrame()\n",
    "preds_1['Id'] = X_test_scaled.index\n",
    "preds_1['priceByRoom'] = y_pred_1"
   ]
  },
  {
   "cell_type": "code",
   "execution_count": 161,
   "metadata": {},
   "outputs": [],
   "source": [
    "test_df1 = pd.merge(test_df, preds_1, on=['Id'])\n",
    "test_df1.set_index('Id', inplace=True)"
   ]
  },
  {
   "cell_type": "code",
   "execution_count": 162,
   "metadata": {},
   "outputs": [
    {
     "data": {
      "text/html": [
       "<div>\n",
       "<style scoped>\n",
       "    .dataframe tbody tr th:only-of-type {\n",
       "        vertical-align: middle;\n",
       "    }\n",
       "\n",
       "    .dataframe tbody tr th {\n",
       "        vertical-align: top;\n",
       "    }\n",
       "\n",
       "    .dataframe thead th {\n",
       "        text-align: right;\n",
       "    }\n",
       "</style>\n",
       "<table border=\"1\" class=\"dataframe\">\n",
       "  <thead>\n",
       "    <tr style=\"text-align: right;\">\n",
       "      <th></th>\n",
       "      <th>DistrictId</th>\n",
       "      <th>Rooms</th>\n",
       "      <th>Square</th>\n",
       "      <th>LifeSquare</th>\n",
       "      <th>KitchenSquare</th>\n",
       "      <th>Floor</th>\n",
       "      <th>HouseFloor</th>\n",
       "      <th>HouseYear</th>\n",
       "      <th>Ecology_1</th>\n",
       "      <th>Ecology_2</th>\n",
       "      <th>...</th>\n",
       "      <th>Shops_1</th>\n",
       "      <th>Shops_2</th>\n",
       "      <th>total_square</th>\n",
       "      <th>priceMbyDistrict</th>\n",
       "      <th>priceMbySocial_2</th>\n",
       "      <th>priceMbyHouseYear</th>\n",
       "      <th>av_square_per_room</th>\n",
       "      <th>priceM</th>\n",
       "      <th>priceByTS</th>\n",
       "      <th>priceByRoom</th>\n",
       "    </tr>\n",
       "    <tr>\n",
       "      <th>Id</th>\n",
       "      <th></th>\n",
       "      <th></th>\n",
       "      <th></th>\n",
       "      <th></th>\n",
       "      <th></th>\n",
       "      <th></th>\n",
       "      <th></th>\n",
       "      <th></th>\n",
       "      <th></th>\n",
       "      <th></th>\n",
       "      <th></th>\n",
       "      <th></th>\n",
       "      <th></th>\n",
       "      <th></th>\n",
       "      <th></th>\n",
       "      <th></th>\n",
       "      <th></th>\n",
       "      <th></th>\n",
       "      <th></th>\n",
       "      <th></th>\n",
       "      <th></th>\n",
       "    </tr>\n",
       "  </thead>\n",
       "  <tbody>\n",
       "    <tr>\n",
       "      <td>725</td>\n",
       "      <td>58</td>\n",
       "      <td>2.000</td>\n",
       "      <td>49.883</td>\n",
       "      <td>33.433</td>\n",
       "      <td>6.000</td>\n",
       "      <td>6</td>\n",
       "      <td>14.000</td>\n",
       "      <td>1972</td>\n",
       "      <td>0.310</td>\n",
       "      <td>1</td>\n",
       "      <td>...</td>\n",
       "      <td>0</td>\n",
       "      <td>0</td>\n",
       "      <td>89.315</td>\n",
       "      <td>2963.981</td>\n",
       "      <td>3494.789</td>\n",
       "      <td>4285.794</td>\n",
       "      <td>24.941</td>\n",
       "      <td>3124.205</td>\n",
       "      <td>1771.409</td>\n",
       "      <td>78610.023</td>\n",
       "    </tr>\n",
       "    <tr>\n",
       "      <td>15856</td>\n",
       "      <td>74</td>\n",
       "      <td>2.000</td>\n",
       "      <td>69.263</td>\n",
       "      <td>68.263</td>\n",
       "      <td>1.000</td>\n",
       "      <td>6</td>\n",
       "      <td>1.000</td>\n",
       "      <td>1977</td>\n",
       "      <td>0.076</td>\n",
       "      <td>1</td>\n",
       "      <td>...</td>\n",
       "      <td>2</td>\n",
       "      <td>0</td>\n",
       "      <td>138.526</td>\n",
       "      <td>3319.318</td>\n",
       "      <td>2690.038</td>\n",
       "      <td>2899.451</td>\n",
       "      <td>34.632</td>\n",
       "      <td>3409.627</td>\n",
       "      <td>1700.646</td>\n",
       "      <td>119610.468</td>\n",
       "    </tr>\n",
       "    <tr>\n",
       "      <td>5480</td>\n",
       "      <td>190</td>\n",
       "      <td>1.000</td>\n",
       "      <td>13.598</td>\n",
       "      <td>15.948</td>\n",
       "      <td>12.000</td>\n",
       "      <td>2</td>\n",
       "      <td>5.000</td>\n",
       "      <td>1909</td>\n",
       "      <td>0.000</td>\n",
       "      <td>1</td>\n",
       "      <td>...</td>\n",
       "      <td>5</td>\n",
       "      <td>0</td>\n",
       "      <td>41.546</td>\n",
       "      <td>8645.171</td>\n",
       "      <td>7870.592</td>\n",
       "      <td>4285.794</td>\n",
       "      <td>13.598</td>\n",
       "      <td>7619.208</td>\n",
       "      <td>4627.997</td>\n",
       "      <td>203754.717</td>\n",
       "    </tr>\n",
       "    <tr>\n",
       "      <td>15664</td>\n",
       "      <td>47</td>\n",
       "      <td>2.000</td>\n",
       "      <td>73.047</td>\n",
       "      <td>51.941</td>\n",
       "      <td>9.000</td>\n",
       "      <td>22</td>\n",
       "      <td>22.000</td>\n",
       "      <td>2007</td>\n",
       "      <td>0.102</td>\n",
       "      <td>1</td>\n",
       "      <td>...</td>\n",
       "      <td>3</td>\n",
       "      <td>0</td>\n",
       "      <td>133.987</td>\n",
       "      <td>4181.964</td>\n",
       "      <td>4325.526</td>\n",
       "      <td>4401.625</td>\n",
       "      <td>36.523</td>\n",
       "      <td>4120.551</td>\n",
       "      <td>2359.352</td>\n",
       "      <td>143898.255</td>\n",
       "    </tr>\n",
       "    <tr>\n",
       "      <td>14275</td>\n",
       "      <td>27</td>\n",
       "      <td>1.000</td>\n",
       "      <td>47.527</td>\n",
       "      <td>43.388</td>\n",
       "      <td>1.000</td>\n",
       "      <td>17</td>\n",
       "      <td>17.000</td>\n",
       "      <td>2017</td>\n",
       "      <td>0.072</td>\n",
       "      <td>1</td>\n",
       "      <td>...</td>\n",
       "      <td>0</td>\n",
       "      <td>1</td>\n",
       "      <td>91.915</td>\n",
       "      <td>2760.814</td>\n",
       "      <td>2746.899</td>\n",
       "      <td>3050.414</td>\n",
       "      <td>47.527</td>\n",
       "      <td>3166.745</td>\n",
       "      <td>1586.635</td>\n",
       "      <td>147762.536</td>\n",
       "    </tr>\n",
       "  </tbody>\n",
       "</table>\n",
       "<p>5 rows × 26 columns</p>\n",
       "</div>"
      ],
      "text/plain": [
       "       DistrictId  Rooms  Square  LifeSquare  KitchenSquare  Floor  \\\n",
       "Id                                                                   \n",
       "725            58  2.000  49.883      33.433          6.000      6   \n",
       "15856          74  2.000  69.263      68.263          1.000      6   \n",
       "5480          190  1.000  13.598      15.948         12.000      2   \n",
       "15664          47  2.000  73.047      51.941          9.000     22   \n",
       "14275          27  1.000  47.527      43.388          1.000     17   \n",
       "\n",
       "       HouseFloor  HouseYear  Ecology_1  Ecology_2  ...  Shops_1  Shops_2  \\\n",
       "Id                                                  ...                     \n",
       "725        14.000       1972      0.310          1  ...        0        0   \n",
       "15856       1.000       1977      0.076          1  ...        2        0   \n",
       "5480        5.000       1909      0.000          1  ...        5        0   \n",
       "15664      22.000       2007      0.102          1  ...        3        0   \n",
       "14275      17.000       2017      0.072          1  ...        0        1   \n",
       "\n",
       "       total_square  priceMbyDistrict  priceMbySocial_2  priceMbyHouseYear  \\\n",
       "Id                                                                           \n",
       "725          89.315          2963.981          3494.789           4285.794   \n",
       "15856       138.526          3319.318          2690.038           2899.451   \n",
       "5480         41.546          8645.171          7870.592           4285.794   \n",
       "15664       133.987          4181.964          4325.526           4401.625   \n",
       "14275        91.915          2760.814          2746.899           3050.414   \n",
       "\n",
       "       av_square_per_room   priceM  priceByTS  priceByRoom  \n",
       "Id                                                          \n",
       "725                24.941 3124.205   1771.409    78610.023  \n",
       "15856              34.632 3409.627   1700.646   119610.468  \n",
       "5480               13.598 7619.208   4627.997   203754.717  \n",
       "15664              36.523 4120.551   2359.352   143898.255  \n",
       "14275              47.527 3166.745   1586.635   147762.536  \n",
       "\n",
       "[5 rows x 26 columns]"
      ]
     },
     "execution_count": 162,
     "metadata": {},
     "output_type": "execute_result"
    }
   ],
   "source": [
    "test_df1.head()"
   ]
  },
  {
   "cell_type": "markdown",
   "metadata": {},
   "source": [
    "Обучение всей модели"
   ]
  },
  {
   "cell_type": "code",
   "execution_count": 163,
   "metadata": {},
   "outputs": [],
   "source": [
    "#train_df1_copy = train_df1.copy() # сохранить, чтобы не потерять цену при перезапуске"
   ]
  },
  {
   "cell_type": "code",
   "execution_count": 164,
   "metadata": {},
   "outputs": [
    {
     "data": {
      "text/html": [
       "<div>\n",
       "<style scoped>\n",
       "    .dataframe tbody tr th:only-of-type {\n",
       "        vertical-align: middle;\n",
       "    }\n",
       "\n",
       "    .dataframe tbody tr th {\n",
       "        vertical-align: top;\n",
       "    }\n",
       "\n",
       "    .dataframe thead th {\n",
       "        text-align: right;\n",
       "    }\n",
       "</style>\n",
       "<table border=\"1\" class=\"dataframe\">\n",
       "  <thead>\n",
       "    <tr style=\"text-align: right;\">\n",
       "      <th></th>\n",
       "      <th>DistrictId</th>\n",
       "      <th>Rooms</th>\n",
       "      <th>Square</th>\n",
       "      <th>LifeSquare</th>\n",
       "      <th>KitchenSquare</th>\n",
       "      <th>Floor</th>\n",
       "      <th>HouseFloor</th>\n",
       "      <th>HouseYear</th>\n",
       "      <th>Ecology_1</th>\n",
       "      <th>Ecology_2</th>\n",
       "      <th>...</th>\n",
       "      <th>Shops_2</th>\n",
       "      <th>Price</th>\n",
       "      <th>total_square</th>\n",
       "      <th>priceM</th>\n",
       "      <th>priceMbyDistrict</th>\n",
       "      <th>priceByTS</th>\n",
       "      <th>priceMbySocial_2</th>\n",
       "      <th>priceMbyHouseYear</th>\n",
       "      <th>priceByRoom</th>\n",
       "      <th>av_square_per_room</th>\n",
       "    </tr>\n",
       "    <tr>\n",
       "      <th>Id</th>\n",
       "      <th></th>\n",
       "      <th></th>\n",
       "      <th></th>\n",
       "      <th></th>\n",
       "      <th></th>\n",
       "      <th></th>\n",
       "      <th></th>\n",
       "      <th></th>\n",
       "      <th></th>\n",
       "      <th></th>\n",
       "      <th></th>\n",
       "      <th></th>\n",
       "      <th></th>\n",
       "      <th></th>\n",
       "      <th></th>\n",
       "      <th></th>\n",
       "      <th></th>\n",
       "      <th></th>\n",
       "      <th></th>\n",
       "      <th></th>\n",
       "      <th></th>\n",
       "    </tr>\n",
       "  </thead>\n",
       "  <tbody>\n",
       "    <tr>\n",
       "      <td>14038</td>\n",
       "      <td>35</td>\n",
       "      <td>2.000</td>\n",
       "      <td>47.982</td>\n",
       "      <td>29.443</td>\n",
       "      <td>6.000</td>\n",
       "      <td>7</td>\n",
       "      <td>9.000</td>\n",
       "      <td>1969</td>\n",
       "      <td>0.089</td>\n",
       "      <td>1</td>\n",
       "      <td>...</td>\n",
       "      <td>0</td>\n",
       "      <td>184966.931</td>\n",
       "      <td>83.424</td>\n",
       "      <td>3854.959</td>\n",
       "      <td>4358.275</td>\n",
       "      <td>2217.183</td>\n",
       "      <td>4463.364</td>\n",
       "      <td>4473.255</td>\n",
       "      <td>92483.465</td>\n",
       "      <td>23.991</td>\n",
       "    </tr>\n",
       "    <tr>\n",
       "      <td>15053</td>\n",
       "      <td>41</td>\n",
       "      <td>3.000</td>\n",
       "      <td>65.684</td>\n",
       "      <td>40.050</td>\n",
       "      <td>8.000</td>\n",
       "      <td>7</td>\n",
       "      <td>9.000</td>\n",
       "      <td>1978</td>\n",
       "      <td>0.000</td>\n",
       "      <td>1</td>\n",
       "      <td>...</td>\n",
       "      <td>0</td>\n",
       "      <td>300009.450</td>\n",
       "      <td>113.733</td>\n",
       "      <td>4567.491</td>\n",
       "      <td>4437.304</td>\n",
       "      <td>2637.836</td>\n",
       "      <td>4393.559</td>\n",
       "      <td>4317.685</td>\n",
       "      <td>100003.150</td>\n",
       "      <td>21.895</td>\n",
       "    </tr>\n",
       "    <tr>\n",
       "      <td>4765</td>\n",
       "      <td>53</td>\n",
       "      <td>2.000</td>\n",
       "      <td>44.948</td>\n",
       "      <td>29.198</td>\n",
       "      <td>0.000</td>\n",
       "      <td>8</td>\n",
       "      <td>12.000</td>\n",
       "      <td>1968</td>\n",
       "      <td>0.050</td>\n",
       "      <td>1</td>\n",
       "      <td>...</td>\n",
       "      <td>0</td>\n",
       "      <td>220925.909</td>\n",
       "      <td>74.146</td>\n",
       "      <td>4915.150</td>\n",
       "      <td>4845.919</td>\n",
       "      <td>2979.624</td>\n",
       "      <td>4824.286</td>\n",
       "      <td>4429.204</td>\n",
       "      <td>110462.954</td>\n",
       "      <td>22.474</td>\n",
       "    </tr>\n",
       "    <tr>\n",
       "      <td>5809</td>\n",
       "      <td>58</td>\n",
       "      <td>2.000</td>\n",
       "      <td>53.353</td>\n",
       "      <td>52.732</td>\n",
       "      <td>9.000</td>\n",
       "      <td>8</td>\n",
       "      <td>17.000</td>\n",
       "      <td>1977</td>\n",
       "      <td>0.438</td>\n",
       "      <td>1</td>\n",
       "      <td>...</td>\n",
       "      <td>0</td>\n",
       "      <td>175616.227</td>\n",
       "      <td>115.084</td>\n",
       "      <td>3291.592</td>\n",
       "      <td>2963.981</td>\n",
       "      <td>1525.976</td>\n",
       "      <td>2653.738</td>\n",
       "      <td>2899.451</td>\n",
       "      <td>87808.114</td>\n",
       "      <td>26.676</td>\n",
       "    </tr>\n",
       "    <tr>\n",
       "      <td>10783</td>\n",
       "      <td>99</td>\n",
       "      <td>1.000</td>\n",
       "      <td>39.649</td>\n",
       "      <td>23.776</td>\n",
       "      <td>7.000</td>\n",
       "      <td>11</td>\n",
       "      <td>12.000</td>\n",
       "      <td>1976</td>\n",
       "      <td>0.012</td>\n",
       "      <td>1</td>\n",
       "      <td>...</td>\n",
       "      <td>0</td>\n",
       "      <td>150226.532</td>\n",
       "      <td>70.425</td>\n",
       "      <td>3788.893</td>\n",
       "      <td>3992.031</td>\n",
       "      <td>2133.131</td>\n",
       "      <td>3986.565</td>\n",
       "      <td>4367.263</td>\n",
       "      <td>150226.532</td>\n",
       "      <td>39.649</td>\n",
       "    </tr>\n",
       "  </tbody>\n",
       "</table>\n",
       "<p>5 rows × 27 columns</p>\n",
       "</div>"
      ],
      "text/plain": [
       "       DistrictId  Rooms  Square  LifeSquare  KitchenSquare  Floor  \\\n",
       "Id                                                                   \n",
       "14038          35  2.000  47.982      29.443          6.000      7   \n",
       "15053          41  3.000  65.684      40.050          8.000      7   \n",
       "4765           53  2.000  44.948      29.198          0.000      8   \n",
       "5809           58  2.000  53.353      52.732          9.000      8   \n",
       "10783          99  1.000  39.649      23.776          7.000     11   \n",
       "\n",
       "       HouseFloor  HouseYear  Ecology_1  Ecology_2  ...  Shops_2      Price  \\\n",
       "Id                                                  ...                       \n",
       "14038       9.000       1969      0.089          1  ...        0 184966.931   \n",
       "15053       9.000       1978      0.000          1  ...        0 300009.450   \n",
       "4765       12.000       1968      0.050          1  ...        0 220925.909   \n",
       "5809       17.000       1977      0.438          1  ...        0 175616.227   \n",
       "10783      12.000       1976      0.012          1  ...        0 150226.532   \n",
       "\n",
       "       total_square   priceM  priceMbyDistrict  priceByTS  priceMbySocial_2  \\\n",
       "Id                                                                            \n",
       "14038        83.424 3854.959          4358.275   2217.183          4463.364   \n",
       "15053       113.733 4567.491          4437.304   2637.836          4393.559   \n",
       "4765         74.146 4915.150          4845.919   2979.624          4824.286   \n",
       "5809        115.084 3291.592          2963.981   1525.976          2653.738   \n",
       "10783        70.425 3788.893          3992.031   2133.131          3986.565   \n",
       "\n",
       "       priceMbyHouseYear  priceByRoom  av_square_per_room  \n",
       "Id                                                         \n",
       "14038           4473.255    92483.465              23.991  \n",
       "15053           4317.685   100003.150              21.895  \n",
       "4765            4429.204   110462.954              22.474  \n",
       "5809            2899.451    87808.114              26.676  \n",
       "10783           4367.263   150226.532              39.649  \n",
       "\n",
       "[5 rows x 27 columns]"
      ]
     },
     "execution_count": 164,
     "metadata": {},
     "output_type": "execute_result"
    }
   ],
   "source": [
    "train_df1 = train_df1_copy.copy()\n",
    "train_df1.head()"
   ]
  },
  {
   "cell_type": "markdown",
   "metadata": {},
   "source": [
    "Обучение итоговой модели"
   ]
  },
  {
   "cell_type": "code",
   "execution_count": 165,
   "metadata": {},
   "outputs": [],
   "source": [
    "target_1 = ['Price']\n",
    "features_1 = ['DistrictId',   \n",
    "              'total_square',\n",
    "              'priceMbyDistrict',\n",
    "              'priceMbySocial_2',\n",
    "              'priceMbyHouseYear',\n",
    "              'priceByRoom',\n",
    "              'av_square_per_room',\n",
    "              'priceM',\n",
    "              'priceByTS',\n",
    "              'Rooms',           \n",
    "              'Square',\n",
    "              'LifeSquare',\n",
    "              'KitchenSquare',\n",
    "              'Floor',\n",
    "              'HouseFloor',\n",
    "              'HouseYear',\n",
    "              'Social_1',\n",
    "              'Social_2',\n",
    "              'Social_3',\n",
    "              'Healthcare_1',\n",
    "              'Helthcare_2',\n",
    "              'Shops_1',\n",
    "              'Shops_2']"
   ]
  },
  {
   "cell_type": "markdown",
   "metadata": {},
   "source": [
    "Обучаем на полных данных"
   ]
  },
  {
   "cell_type": "code",
   "execution_count": 166,
   "metadata": {},
   "outputs": [],
   "source": [
    "X_train_1 = train_df1[features_1]\n",
    "y_train_1 = train_df1[target_1]\n",
    "\n",
    "X_test_1 = test_df1[features_1]"
   ]
  },
  {
   "cell_type": "markdown",
   "metadata": {},
   "source": [
    "Масштабирование признаков"
   ]
  },
  {
   "cell_type": "code",
   "execution_count": 167,
   "metadata": {},
   "outputs": [
    {
     "data": {
      "text/html": [
       "<div>\n",
       "<style scoped>\n",
       "    .dataframe tbody tr th:only-of-type {\n",
       "        vertical-align: middle;\n",
       "    }\n",
       "\n",
       "    .dataframe tbody tr th {\n",
       "        vertical-align: top;\n",
       "    }\n",
       "\n",
       "    .dataframe thead th {\n",
       "        text-align: right;\n",
       "    }\n",
       "</style>\n",
       "<table border=\"1\" class=\"dataframe\">\n",
       "  <thead>\n",
       "    <tr style=\"text-align: right;\">\n",
       "      <th></th>\n",
       "      <th>count</th>\n",
       "      <th>mean</th>\n",
       "      <th>std</th>\n",
       "      <th>min</th>\n",
       "      <th>25%</th>\n",
       "      <th>50%</th>\n",
       "      <th>75%</th>\n",
       "      <th>max</th>\n",
       "    </tr>\n",
       "  </thead>\n",
       "  <tbody>\n",
       "    <tr>\n",
       "      <td>DistrictId</td>\n",
       "      <td>9973.000</td>\n",
       "      <td>0.000</td>\n",
       "      <td>1.000</td>\n",
       "      <td>-1.156</td>\n",
       "      <td>-0.698</td>\n",
       "      <td>-0.331</td>\n",
       "      <td>0.564</td>\n",
       "      <td>3.637</td>\n",
       "    </tr>\n",
       "    <tr>\n",
       "      <td>total_square</td>\n",
       "      <td>9973.000</td>\n",
       "      <td>-0.000</td>\n",
       "      <td>1.000</td>\n",
       "      <td>-2.106</td>\n",
       "      <td>-0.748</td>\n",
       "      <td>-0.219</td>\n",
       "      <td>0.601</td>\n",
       "      <td>12.060</td>\n",
       "    </tr>\n",
       "    <tr>\n",
       "      <td>priceMbyDistrict</td>\n",
       "      <td>9973.000</td>\n",
       "      <td>0.000</td>\n",
       "      <td>1.000</td>\n",
       "      <td>-1.661</td>\n",
       "      <td>-0.994</td>\n",
       "      <td>0.207</td>\n",
       "      <td>0.636</td>\n",
       "      <td>4.791</td>\n",
       "    </tr>\n",
       "    <tr>\n",
       "      <td>priceMbySocial_2</td>\n",
       "      <td>9973.000</td>\n",
       "      <td>0.000</td>\n",
       "      <td>1.000</td>\n",
       "      <td>-2.694</td>\n",
       "      <td>-1.069</td>\n",
       "      <td>0.219</td>\n",
       "      <td>0.666</td>\n",
       "      <td>4.384</td>\n",
       "    </tr>\n",
       "    <tr>\n",
       "      <td>priceMbyHouseYear</td>\n",
       "      <td>9973.000</td>\n",
       "      <td>-0.000</td>\n",
       "      <td>1.000</td>\n",
       "      <td>-1.337</td>\n",
       "      <td>-1.160</td>\n",
       "      <td>0.660</td>\n",
       "      <td>0.822</td>\n",
       "      <td>5.303</td>\n",
       "    </tr>\n",
       "    <tr>\n",
       "      <td>priceByRoom</td>\n",
       "      <td>9973.000</td>\n",
       "      <td>0.000</td>\n",
       "      <td>1.000</td>\n",
       "      <td>-2.123</td>\n",
       "      <td>-0.689</td>\n",
       "      <td>-0.181</td>\n",
       "      <td>0.573</td>\n",
       "      <td>9.343</td>\n",
       "    </tr>\n",
       "    <tr>\n",
       "      <td>av_square_per_room</td>\n",
       "      <td>9973.000</td>\n",
       "      <td>0.000</td>\n",
       "      <td>1.000</td>\n",
       "      <td>-3.499</td>\n",
       "      <td>-0.761</td>\n",
       "      <td>-0.079</td>\n",
       "      <td>0.840</td>\n",
       "      <td>2.417</td>\n",
       "    </tr>\n",
       "    <tr>\n",
       "      <td>priceM</td>\n",
       "      <td>9973.000</td>\n",
       "      <td>-0.000</td>\n",
       "      <td>1.000</td>\n",
       "      <td>-2.520</td>\n",
       "      <td>-0.779</td>\n",
       "      <td>0.014</td>\n",
       "      <td>0.642</td>\n",
       "      <td>6.394</td>\n",
       "    </tr>\n",
       "  </tbody>\n",
       "</table>\n",
       "</div>"
      ],
      "text/plain": [
       "                      count   mean   std    min    25%    50%   75%    max\n",
       "DistrictId         9973.000  0.000 1.000 -1.156 -0.698 -0.331 0.564  3.637\n",
       "total_square       9973.000 -0.000 1.000 -2.106 -0.748 -0.219 0.601 12.060\n",
       "priceMbyDistrict   9973.000  0.000 1.000 -1.661 -0.994  0.207 0.636  4.791\n",
       "priceMbySocial_2   9973.000  0.000 1.000 -2.694 -1.069  0.219 0.666  4.384\n",
       "priceMbyHouseYear  9973.000 -0.000 1.000 -1.337 -1.160  0.660 0.822  5.303\n",
       "priceByRoom        9973.000  0.000 1.000 -2.123 -0.689 -0.181 0.573  9.343\n",
       "av_square_per_room 9973.000  0.000 1.000 -3.499 -0.761 -0.079 0.840  2.417\n",
       "priceM             9973.000 -0.000 1.000 -2.520 -0.779  0.014 0.642  6.394"
      ]
     },
     "execution_count": 167,
     "metadata": {},
     "output_type": "execute_result"
    }
   ],
   "source": [
    "scaler = StandardScaler()\n",
    "\n",
    "X_train_scaled_1 = pd.DataFrame(scaler.fit_transform(X_train_1), \n",
    "                        columns=X_train_1.columns, \n",
    "                        index=X_train_1.index)\n",
    "X_test_scaled_1 = pd.DataFrame(scaler.transform(X_test_1), \n",
    "                        columns=X_test_1.columns, \n",
    "                        index=X_test_1.index)\n",
    "\n",
    "features_1 = X_train_scaled_1.iloc[:, :8]\n",
    "features_1.describe().T"
   ]
  },
  {
   "cell_type": "markdown",
   "metadata": {},
   "source": [
    "PCA"
   ]
  },
  {
   "cell_type": "code",
   "execution_count": 168,
   "metadata": {},
   "outputs": [],
   "source": [
    "components_3d_pca_1 = reduce_dims_to_3D_space_with_PCA(features_1)\n",
    "pca_1 = PCA(n_components=3)\n",
    "components_3d_pca_train_1 = pca_1.fit_transform(features_1)\n",
    "\n",
    "# for i, component in enumerate(pca_1.components_):\n",
    "#     print(\"{} component: {}% of initial variance\".format(i + 1, \n",
    "#           round(100 * pca_1.explained_variance_ratio_[i], 2)))\n",
    "#     print(\" + \".join(\"%.3f x %s\" % (value, name)\n",
    "#                      for value, name in zip(component,\n",
    "#                                             features_1.columns)), '\\n')"
   ]
  },
  {
   "cell_type": "code",
   "execution_count": 169,
   "metadata": {},
   "outputs": [],
   "source": [
    "components_1 = pca_1.transform(X_test_scaled_1.iloc[:, :8])\n",
    "components_3d_pca_test_1 = pd.DataFrame(data = components_1, \n",
    "                                     columns = ['component_1', 'component_2', 'component_3'])"
   ]
  },
  {
   "cell_type": "code",
   "execution_count": 170,
   "metadata": {},
   "outputs": [],
   "source": [
    "X_train_pca_1 = pd.concat([X_train_1.reset_index(), \n",
    "                  components_3d_pca_1], axis=1)\n",
    "X_test_pca_1 = pd.concat([X_test_1.reset_index(), \n",
    "                  components_3d_pca_test_1], axis=1)"
   ]
  },
  {
   "cell_type": "markdown",
   "metadata": {},
   "source": [
    "K-means"
   ]
  },
  {
   "cell_type": "code",
   "execution_count": 171,
   "metadata": {},
   "outputs": [
    {
     "data": {
      "image/png": "[encoded data removed]",
      "text/plain": [
       "<Figure size 720x432 with 1 Axes>"
      ]
     },
     "metadata": {
      "needs_background": "light"
     },
     "output_type": "display_data"
    }
   ],
   "source": [
    "apply_elbow_method(features_1) "
   ]
  },
  {
   "cell_type": "code",
   "execution_count": 172,
   "metadata": {},
   "outputs": [
    {
     "data": {
      "image/png": "[encoded data removed]",
      "text/plain": [
       "<Figure size 576x360 with 1 Axes>"
      ]
     },
     "metadata": {
      "needs_background": "light"
     },
     "output_type": "display_data"
    }
   ],
   "source": [
    "kmeans_3 = KMeans(n_clusters=3, random_state=42)\n",
    "labels_clast_3 = kmeans_3.fit_predict(features_1)\n",
    "labels_clast_3 = pd.Series(labels_clast_3, name='clusters_3')\n",
    "\n",
    "unique, counts = np.unique(labels_clast_3, return_counts=True)\n",
    "display_clusters_distribution(unique, counts)"
   ]
  },
  {
   "cell_type": "code",
   "execution_count": 173,
   "metadata": {},
   "outputs": [
    {
     "data": {
      "text/plain": [
       "(9973, 30)"
      ]
     },
     "execution_count": 173,
     "metadata": {},
     "output_type": "execute_result"
    }
   ],
   "source": [
    "clusters_3_dummies = pd.get_dummies(labels_clast_3, drop_first=True, prefix='clusters_3')\n",
    "\n",
    "X_train_ext = pd.concat([X_train_pca_1.reset_index(), \n",
    "                   clusters_3_dummies], axis=1)\n",
    "X_train_ext.shape"
   ]
  },
  {
   "cell_type": "code",
   "execution_count": 174,
   "metadata": {},
   "outputs": [
    {
     "data": {
      "text/plain": [
       "(5000, 30)"
      ]
     },
     "execution_count": 174,
     "metadata": {},
     "output_type": "execute_result"
    }
   ],
   "source": [
    "labels_clast_3 = kmeans_3.predict(X_test_scaled_1.iloc[:, :8])\n",
    "\n",
    "clusters_3_dummies = pd.get_dummies(labels_clast_3, drop_first=True, prefix='clusters_3')\n",
    "\n",
    "X_test_ext = pd.concat([X_test_pca_1.reset_index(), \n",
    "                   clusters_3_dummies], axis=1)\n",
    "X_test_ext.shape"
   ]
  },
  {
   "cell_type": "code",
   "execution_count": 175,
   "metadata": {},
   "outputs": [],
   "source": [
    "# 30/7\n",
    "\n",
    "forest_2 = RandomForestRegressor(max_depth=15, \n",
    "                                 max_features=19, \n",
    "                                 n_estimators=400,\n",
    "                                 random_state=42,\n",
    "                                 bootstrap=True,\n",
    "                                 min_samples_leaf=2,\n",
    "                                 min_samples_split=12)"
   ]
  },
  {
   "cell_type": "code",
   "execution_count": 176,
   "metadata": {},
   "outputs": [
    {
     "data": {
      "text/plain": [
       "RandomForestRegressor(bootstrap=True, criterion='mse', max_depth=15,\n",
       "                      max_features=19, max_leaf_nodes=None,\n",
       "                      min_impurity_decrease=0.0, min_impurity_split=None,\n",
       "                      min_samples_leaf=2, min_samples_split=12,\n",
       "                      min_weight_fraction_leaf=0.0, n_estimators=400,\n",
       "                      n_jobs=None, oob_score=False, random_state=42, verbose=0,\n",
       "                      warm_start=False)"
      ]
     },
     "execution_count": 176,
     "metadata": {},
     "output_type": "execute_result"
    }
   ],
   "source": [
    "forest_2.fit(X_train_ext, y_train_1)\n",
    "# y_train_preds_1 = forest_2.predict(X_train_ext)\n",
    "# y_test_preds_1 = forest_2.predict(X_test_ext)\n",
    "# evaluate_preds(y_train_1, y_train_preds_1, y_test_1, y_test_preds_1)"
   ]
  },
  {
   "cell_type": "code",
   "execution_count": 177,
   "metadata": {},
   "outputs": [],
   "source": [
    "# feature_importances = pd.DataFrame(zip(X_train_ext.columns, forest_2.feature_importances_), \n",
    "#                                   columns=['feature_name', 'importance'])\n",
    "# feature_importances.sort_values(by='importance', ascending=False)"
   ]
  },
  {
   "cell_type": "markdown",
   "metadata": {},
   "source": [
    "Сохранение результатов"
   ]
  },
  {
   "cell_type": "code",
   "execution_count": 178,
   "metadata": {},
   "outputs": [],
   "source": [
    "y_pred_1 = forest_2.predict(X_test_ext)\n",
    "\n",
    "preds_1 = pd.DataFrame()\n",
    "preds_1['Id'] = X_test_1.index\n",
    "preds_1['Price'] = y_pred_1\n",
    "preds_1.to_csv('Korablina_submission.csv', index=False)"
   ]
  }
 ],
 "metadata": {
  "kernelspec": {
   "display_name": "Python 3",
   "language": "python",
   "name": "python3"
  },
  "language_info": {
   "codemirror_mode": {
    "name": "ipython",
    "version": 3
   },
   "file_extension": ".py",
   "mimetype": "text/x-python",
   "name": "python",
   "nbconvert_exporter": "python",
   "pygments_lexer": "ipython3",
   "version": "3.7.4"
  }
 },
 "nbformat": 4,
 "nbformat_minor": 2
}
